{
  "nbformat": 4,
  "nbformat_minor": 5,
  "metadata": {
    "kernelspec": {
      "display_name": "Python 3",
      "language": "python",
      "name": "python3"
    },
    "language_info": {
      "codemirror_mode": {
        "name": "ipython",
        "version": 3
      },
      "file_extension": ".py",
      "mimetype": "text/x-python",
      "name": "python",
      "nbconvert_exporter": "python",
      "pygments_lexer": "ipython3",
      "version": "3.8.3"
    },
    "colab": {
      "name": "Homework 9 - Descriptive Notebook.ipynb",
      "provenance": [],
      "collapsed_sections": []
    },
    "accelerator": "GPU"
  },
  "cells": [
    {
      "cell_type": "markdown",
      "metadata": {
        "id": "through-glossary"
      },
      "source": [
        "# Homework 9 - Descriptive Notebook\n",
        "\n",
        "In this homework notebook, we will create and train our own SkipGram embedding, by using the speech from Martin Luther King in the text.text file.\n",
        "\n",
        "Get familiar with the code and write a small report (2 pages max), with answers to the questions listed at the end of the notebook.\n",
        "\n",
        "**The report must be submitted in PDF format, before April 4th, 11.59pm!**\n",
        "\n",
        "Do not forget to write your name and student ID on the report.\n",
        "\n",
        "You may also submit your own copy of the notebook along with the report. If you do so, please add your name and ID to the cell below."
      ],
      "id": "through-glossary"
    },
    {
      "cell_type": "code",
      "metadata": {
        "id": "pacific-laundry"
      },
      "source": [
        "# Name: Amarjyot Kaur\n",
        "# Student ID: 1003084"
      ],
      "id": "pacific-laundry",
      "execution_count": 4,
      "outputs": []
    },
    {
      "cell_type": "markdown",
      "metadata": {
        "id": "featured-saturn"
      },
      "source": [
        "### Imports needed\n",
        "\n",
        "Note, we strongly advise to use a CUDA/GPU machine for this notebook.\n",
        "\n",
        "Technically, this can be done on CPU only, but it will be very slow!\n",
        "\n",
        "If you decide to use it on CPU, you might also have to change some of the .cuda() methods used on torch tensors and models in this notebook!"
      ],
      "id": "featured-saturn"
    },
    {
      "cell_type": "code",
      "metadata": {
        "id": "diverse-ivory"
      },
      "source": [
        "import torch\n",
        "from torch.autograd import Variable\n",
        "import torch.nn as nn\n",
        "import torch.optim as optim\n",
        "import torch.nn.functional as F\n",
        "import functools\n",
        "import matplotlib.pyplot as plt\n",
        "CUDA = torch.cuda.is_available()"
      ],
      "id": "diverse-ivory",
      "execution_count": 5,
      "outputs": []
    },
    {
      "cell_type": "markdown",
      "metadata": {
        "id": "informed-tattoo"
      },
      "source": [
        "### Step 1. Produce some data based on a given text for training our SkipGram model    \n",
        "\n",
        "The functions below will be used to produce our dataset for training the SkipGram model."
      ],
      "id": "informed-tattoo"
    },
    {
      "cell_type": "code",
      "metadata": {
        "id": "protected-truth"
      },
      "source": [
        "def text_to_train(text, context_window):\n",
        "    \"\"\"\n",
        "    This function receives the text as a list of words, in lowercase format.\n",
        "    It then returns data, a list of all the possible (x,y) pairs with\n",
        "    - x being the middle word of the sentence of length 2*context_window+1,\n",
        "    - y being a list of 2k words, containing the k preceding words and the k\n",
        "    posterior words.\n",
        "    \"\"\"\n",
        "    \n",
        "    # Get data from list of words in text, using a context window of size k = context_window\n",
        "    data = []\n",
        "    for i in range(context_window, len(text) - context_window):\n",
        "        target = [text[i+e] for e in range(-context_window, context_window+1) if i+e != i]\n",
        "        input_word = text[i]\n",
        "        data.append((input_word, target))\n",
        "        \n",
        "    return data"
      ],
      "id": "protected-truth",
      "execution_count": 6,
      "outputs": []
    },
    {
      "cell_type": "code",
      "metadata": {
        "id": "sensitive-preserve"
      },
      "source": [
        "def create_text():\n",
        "    \"\"\"\n",
        "    This function loads the string of text from the text.txt file,\n",
        "    and produces a list of words in string format, as variable text.\n",
        "    \"\"\"\n",
        "    \n",
        "    # Load corpus from file\n",
        "    with open(\"./text.txt\", 'r', encoding=\"utf8\",) as f:\n",
        "        corpus = f.readlines()\n",
        "    f.close()\n",
        "    \n",
        "    # Join corpus into a single string\n",
        "    text = \"\"\n",
        "    for s in corpus:\n",
        "        l = s.split()\n",
        "        for s2 in l:\n",
        "            # Removes all special characters from string\n",
        "            s2 = ''.join(filter(str.isalnum, s2))\n",
        "            s2 += ' '\n",
        "            text += s2.lower()\n",
        "    text = text.split()\n",
        "    \n",
        "    return text"
      ],
      "id": "sensitive-preserve",
      "execution_count": 7,
      "outputs": []
    },
    {
      "cell_type": "code",
      "metadata": {
        "colab": {
          "base_uri": "https://localhost:8080/"
        },
        "id": "identical-heather",
        "outputId": "319cc6d3-2dac-4625-e14e-c671955947f6"
      },
      "source": [
        "text = create_text()\n",
        "print(text)"
      ],
      "id": "identical-heather",
      "execution_count": 8,
      "outputs": [
        {
          "output_type": "stream",
          "text": [
            "['i', 'am', 'happy', 'to', 'join', 'with', 'you', 'today', 'in', 'what', 'will', 'go', 'down', 'in', 'history', 'as', 'the', 'greatest', 'demonstration', 'for', 'freedom', 'in', 'the', 'history', 'of', 'our', 'nation', 'five', 'score', 'years', 'ago', 'a', 'great', 'american', 'in', 'whose', 'symbolic', 'shadow', 'we', 'stand', 'today', 'signed', 'the', 'emancipation', 'proclamation', 'this', 'momentous', 'decree', 'came', 'as', 'a', 'great', 'beacon', 'of', 'hope', 'to', 'millions', 'of', 'slaves', 'who', 'had', 'been', 'seared', 'in', 'the', 'flames', 'of', 'whithering', 'injustice', 'it', 'came', 'as', 'a', 'joyous', 'daybreak', 'to', 'end', 'the', 'long', 'night', 'of', 'their', 'captivity', 'but', 'one', 'hundred', 'years', 'later', 'the', 'colored', 'america', 'is', 'still', 'not', 'free', 'one', 'hundred', 'years', 'later', 'the', 'life', 'of', 'the', 'colored', 'american', 'is', 'still', 'sadly', 'crippled', 'by', 'the', 'manacle', 'of', 'segregation', 'and', 'the', 'chains', 'of', 'discrimination', 'one', 'hundred', 'years', 'later', 'the', 'colored', 'american', 'lives', 'on', 'a', 'lonely', 'island', 'of', 'poverty', 'in', 'the', 'midst', 'of', 'a', 'vast', 'ocean', 'of', 'material', 'prosperity', 'one', 'hundred', 'years', 'later', 'the', 'colored', 'american', 'is', 'still', 'languishing', 'in', 'the', 'corners', 'of', 'american', 'society', 'and', 'finds', 'himself', 'an', 'exile', 'in', 'his', 'own', 'land', 'so', 'we', 'have', 'come', 'here', 'today', 'to', 'dramatize', 'a', 'shameful', 'condition', 'in', 'a', 'sense', 'we', 'have', 'come', 'to', 'our', 'nations', 'capital', 'to', 'cash', 'a', 'check', 'when', 'the', 'architects', 'of', 'our', 'great', 'republic', 'wrote', 'the', 'magnificent', 'words', 'of', 'the', 'constitution', 'and', 'the', 'declaration', 'of', 'independence', 'they', 'were', 'signing', 'a', 'promissory', 'note', 'to', 'which', 'every', 'american', 'was', 'to', 'fall', 'heir', 'this', 'note', 'was', 'a', 'promise', 'that', 'all', 'men', 'yes', 'black', 'men', 'as', 'well', 'as', 'white', 'men', 'would', 'be', 'guaranteed', 'the', 'inalienable', 'rights', 'of', 'life', 'liberty', 'and', 'the', 'pursuit', 'of', 'happiness', 'it', 'is', 'obvious', 'today', 'that', 'america', 'has', 'defaulted', 'on', 'this', 'promissory', 'note', 'insofar', 'as', 'her', 'citizens', 'of', 'color', 'are', 'concerned', 'instead', 'of', 'honoring', 'this', 'sacred', 'obligation', 'america', 'has', 'given', 'its', 'colored', 'people', 'a', 'bad', 'check', 'a', 'check', 'that', 'has', 'come', 'back', 'marked', 'insufficient', 'funds', 'but', 'we', 'refuse', 'to', 'believe', 'that', 'the', 'bank', 'of', 'justice', 'is', 'bankrupt', 'we', 'refuse', 'to', 'believe', 'that', 'there', 'are', 'insufficient', 'funds', 'in', 'the', 'great', 'vaults', 'of', 'opportunity', 'of', 'this', 'nation', 'so', 'we', 'have', 'come', 'to', 'cash', 'this', 'check', 'a', 'check', 'that', 'will', 'give', 'us', 'upon', 'demand', 'the', 'riches', 'of', 'freedom', 'and', 'security', 'of', 'justice', 'we', 'have', 'also', 'come', 'to', 'his', 'hallowed', 'spot', 'to', 'remind', 'america', 'of', 'the', 'fierce', 'urgency', 'of', 'now', 'this', 'is', 'not', 'time', 'to', 'engage', 'in', 'the', 'luxury', 'of', 'cooling', 'off', 'or', 'to', 'take', 'the', 'tranquilizing', 'drug', 'of', 'gradualism', 'now', 'is', 'the', 'time', 'to', 'make', 'real', 'the', 'promise', 'of', 'democracy', 'now', 'it', 'the', 'time', 'to', 'rise', 'from', 'the', 'dark', 'and', 'desolate', 'valley', 'of', 'segregation', 'to', 'the', 'sunlit', 'path', 'of', 'racial', 'justice', 'now', 'it', 'the', 'time', 'to', 'lift', 'our', 'nation', 'from', 'the', 'quicksand', 'of', 'racial', 'injustice', 'to', 'the', 'solid', 'rock', 'of', 'brotherhood', 'now', 'is', 'the', 'time', 'to', 'make', 'justice', 'a', 'reality', 'to', 'all', 'of', 'gods', 'children', 'i', 'would', 'be', 'fatal', 'for', 'the', 'nation', 'to', 'overlook', 'the', 'urgency', 'of', 'the', 'moment', 'and', 'to', 'underestimate', 'the', 'determination', 'of', 'its', 'colored', 'citizens', 'this', 'sweltering', 'summer', 'of', 'the', 'colored', 'peoples', 'legitimate', 'discontent', 'will', 'not', 'pass', 'until', 'there', 'is', 'an', 'invigorating', 'autumn', 'of', 'freedom', 'and', 'equality', 'nineteen', 'sixtythree', 'is', 'not', 'an', 'end', 'but', 'a', 'beginning', 'those', 'who', 'hope', 'that', 'the', 'colored', 'americans', 'needed', 'to', 'blow', 'off', 'steam', 'and', 'will', 'now', 'be', 'content', 'will', 'have', 'a', 'rude', 'awakening', 'if', 'the', 'nation', 'returns', 'to', 'business', 'as', 'usual', 'there', 'will', 'be', 'neither', 'rest', 'nor', 'tranquility', 'in', 'america', 'until', 'the', 'colored', 'citizen', 'is', 'granted', 'his', 'citizenship', 'rights', 'the', 'whirlwinds', 'of', 'revolt', 'will', 'continue', 'to', 'shake', 'the', 'foundations', 'of', 'our', 'nation', 'until', 'the', 'bright', 'day', 'of', 'justice', 'emerges', 'we', 'can', 'never', 'be', 'satisfied', 'as', 'long', 'as', 'our', 'bodies', 'heavy', 'with', 'the', 'fatigue', 'of', 'travel', 'cannot', 'gain', 'lodging', 'in', 'the', 'motels', 'of', 'the', 'highways', 'and', 'the', 'hotels', 'of', 'the', 'cities', 'we', 'cannot', 'be', 'satisfied', 'as', 'long', 'as', 'the', 'colored', 'persons', 'basic', 'mobility', 'is', 'from', 'a', 'smaller', 'ghetto', 'to', 'a', 'larger', 'one', 'we', 'can', 'never', 'be', 'satisfied', 'as', 'long', 'as', 'our', 'children', 'are', 'stripped', 'of', 'their', 'selfhood', 'and', 'robbed', 'of', 'their', 'dignity', 'by', 'signs', 'stating', 'for', 'white', 'only', 'we', 'cannot', 'be', 'satisfied', 'as', 'long', 'as', 'a', 'colored', 'person', 'in', 'mississippi', 'cannot', 'vote', 'and', 'a', 'colored', 'person', 'in', 'new', 'york', 'believes', 'he', 'has', 'nothing', 'for', 'which', 'to', 'vote', 'no', 'no', 'we', 'are', 'not', 'satisfied', 'and', 'we', 'will', 'not', 'be', 'satisfied', 'until', 'justice', 'rolls', 'down', 'like', 'waters', 'and', 'righteousness', 'like', 'a', 'mighty', 'stream', 'i', 'am', 'not', 'unmindful', 'that', 'some', 'of', 'you', 'have', 'come', 'here', 'out', 'of', 'your', 'trials', 'and', 'tribulations', 'some', 'of', 'you', 'have', 'come', 'from', 'areas', 'where', 'your', 'quest', 'for', 'freedom', 'left', 'you', 'battered', 'by', 'storms', 'of', 'persecutions', 'and', 'staggered', 'by', 'the', 'winds', 'of', 'police', 'brutality', 'you', 'have', 'been', 'the', 'veterans', 'of', 'creative', 'suffering', 'continue', 'to', 'work', 'with', 'the', 'faith', 'that', 'unearned', 'suffering', 'is', 'redemptive', 'go', 'back', 'to', 'mississippi', 'go', 'back', 'to', 'alabama', 'go', 'back', 'to', 'south', 'carolina', 'go', 'back', 'to', 'georgia', 'go', 'back', 'to', 'louisiana', 'go', 'back', 'to', 'the', 'slums', 'and', 'ghettos', 'of', 'our', 'modern', 'cities', 'knowing', 'that', 'somehow', 'this', 'situation', 'can', 'and', 'will', 'be', 'changed', 'let', 'us', 'not', 'wallow', 'in', 'the', 'valley', 'of', 'despair', 'i', 'say', 'to', 'you', 'my', 'friends', 'we', 'have', 'the', 'difficulties', 'of', 'today', 'and', 'tomorrow', 'i', 'still', 'have', 'a', 'dream', 'it', 'is', 'a', 'dream', 'deeply', 'rooted', 'in', 'the', 'american', 'dream', 'i', 'have', 'a', 'dream', 'that', 'one', 'day', 'this', 'nation', 'will', 'rise', 'up', 'and', 'live', 'out', 'the', 'true', 'meaning', 'of', 'its', 'creed', 'we', 'hold', 'these', 'truths', 'to', 'be', 'selfevident', 'that', 'all', 'men', 'are', 'created', 'equal', 'i', 'have', 'a', 'dream', 'that', 'one', 'day', 'out', 'in', 'the', 'red', 'hills', 'of', 'georgia', 'the', 'sons', 'of', 'former', 'slaves', 'and', 'the', 'sons', 'of', 'former', 'slaveowners', 'will', 'be', 'able', 'to', 'sit', 'down', 'together', 'at', 'the', 'table', 'of', 'brotherhood', 'i', 'have', 'a', 'dream', 'that', 'one', 'day', 'even', 'the', 'state', 'of', 'mississippi', 'a', 'state', 'sweltering', 'with', 'the', 'heat', 'of', 'oppression', 'will', 'be', 'transformed', 'into', 'an', 'oasis', 'of', 'freedom', 'and', 'justice', 'i', 'have', 'a', 'dream', 'that', 'my', 'four', 'little', 'children', 'will', 'one', 'day', 'live', 'in', 'a', 'nation', 'where', 'they', 'will', 'not', 'be', 'judged', 'by', 'the', 'color', 'of', 'their', 'skin', 'but', 'by', 'their', 'character', 'i', 'have', 'a', 'dream', 'today', 'i', 'have', 'a', 'dream', 'that', 'one', 'day', 'down', 'in', 'alabama', 'with', 'its', 'vicious', 'racists', 'with', 'its', 'governor', 'having', 'his', 'lips', 'dripping', 'with', 'the', 'words', 'of', 'interposition', 'and', 'nullification', 'that', 'one', 'day', 'right', 'down', 'in', 'alabama', 'little', 'black', 'boys', 'and', 'black', 'girls', 'will', 'be', 'able', 'to', 'join', 'hands', 'with', 'little', 'white', 'boys', 'and', 'white', 'girls', 'as', 'sisters', 'and', 'brothers', 'i', 'have', 'a', 'dream', 'today', 'i', 'have', 'a', 'dream', 'that', 'one', 'day', 'every', 'valley', 'shall', 'be', 'engulfed', 'every', 'hill', 'shall', 'be', 'exalted', 'and', 'every', 'mountain', 'shall', 'be', 'made', 'low', 'the', 'rough', 'places', 'will', 'be', 'made', 'plains', 'and', 'the', 'crooked', 'places', 'will', 'be', 'made', 'straight', 'and', 'the', 'glory', 'of', 'the', 'lord', 'shall', 'be', 'revealed', 'and', 'all', 'flesh', 'shall', 'see', 'it', 'together', 'this', 'is', 'our', 'hope', 'this', 'is', 'the', 'faith', 'that', 'i', 'will', 'go', 'back', 'to', 'the', 'south', 'with', 'with', 'this', 'faith', 'we', 'will', 'be', 'able', 'to', 'hew', 'out', 'of', 'the', 'mountain', 'of', 'despair', 'a', 'stone', 'of', 'hope', 'with', 'this', 'faith', 'we', 'will', 'be', 'able', 'to', 'transform', 'the', 'jangling', 'discords', 'of', 'our', 'nation', 'into', 'a', 'beautiful', 'symphony', 'of', 'brotherhood', 'with', 'this', 'faith', 'we', 'will', 'be', 'able', 'to', 'work', 'together', 'to', 'pray', 'together', 'to', 'struggle', 'together', 'to', 'go', 'to', 'jail', 'together', 'to', 'climb', 'up', 'for', 'freedom', 'together', 'knowing', 'that', 'we', 'will', 'be', 'free', 'one', 'day', 'this', 'will', 'be', 'the', 'day', 'when', 'all', 'of', 'gods', 'children', 'will', 'be', 'able', 'to', 'sing', 'with', 'new', 'meaning', 'my', 'country', 'tis', 'of', 'thee', 'sweet', 'land', 'of', 'liberty', 'of', 'thee', 'i', 'sing', 'land', 'where', 'my', 'fathers', 'died', 'land', 'of', 'the', 'pilgrims', 'pride', 'from', 'every', 'mountainside', 'let', 'freedom', 'ring', 'and', 'if', 'america', 'is', 'to', 'be', 'a', 'great', 'nation', 'this', 'must', 'become', 'true', 'so', 'let', 'freedom', 'ring', 'from', 'the', 'hilltops', 'of', 'new', 'hampshire', 'let', 'freedom', 'ring', 'from', 'the', 'mighty', 'mountains', 'of', 'new', 'york', 'let', 'freedom', 'ring', 'from', 'the', 'heightening', 'alleghenies', 'of', 'pennsylvania', 'let', 'freedom', 'ring', 'from', 'the', 'snowcapped', 'rockies', 'of', 'colorado', 'let', 'freedom', 'ring', 'from', 'the', 'curvaceous', 'slopes', 'of', 'california', 'but', 'not', 'only', 'that', 'let', 'freedom', 'ring', 'from', 'stone', 'mountain', 'of', 'georgia', 'let', 'freedom', 'ring', 'from', 'every', 'hill', 'and', 'molehill', 'of', 'mississippi', 'and', 'every', 'mountainside', 'when', 'we', 'let', 'freedom', 'ring', 'when', 'we', 'let', 'it', 'ring', 'from', 'every', 'tenement', 'and', 'every', 'hamlet', 'from', 'every', 'state', 'and', 'every', 'city', 'we', 'will', 'be', 'able', 'to', 'speed', 'up', 'that', 'day', 'when', 'all', 'of', 'gods', 'children', 'black', 'men', 'and', 'white', 'men', 'jews', 'and', 'gentiles', 'protestants', 'and', 'catholics', 'will', 'be', 'able', 'to', 'join', 'hands', 'and', 'sing', 'in', 'the', 'words', 'of', 'the', 'old', 'spiritual', 'free', 'at', 'last', 'free', 'at', 'last', 'thank', 'god', 'almighty', 'we', 'are', 'free', 'at', 'last']\n"
          ],
          "name": "stdout"
        }
      ]
    },
    {
      "cell_type": "code",
      "metadata": {
        "id": "separate-prayer"
      },
      "source": [
        "def generate_data(text, context_window):\n",
        "    \"\"\"\n",
        "    This function receives the text and context window size.\n",
        "    It produces four outputs:\n",
        "    - vocab, a set containing the words found in text.txt,\n",
        "    without any doublons,\n",
        "    - word2index, a dictionary to convert words to their integer index,\n",
        "    - word2index, a dictionary to convert integer index to their respective words,\n",
        "    - data, containing our (x,y) pairs for training.\n",
        "    \"\"\"\n",
        "    \n",
        "    # Create vocabulary set V\n",
        "    vocab = set(text)\n",
        "    \n",
        "    # Word to index and index 2 word converters\n",
        "    word2index = {w:i for i,w in enumerate(vocab)}\n",
        "    index2word = {i:w for i,w in enumerate(vocab)}\n",
        "    \n",
        "    # Generate data\n",
        "    data = text_to_train(text, context_window)\n",
        "    \n",
        "    return vocab, data, word2index, index2word"
      ],
      "id": "separate-prayer",
      "execution_count": 9,
      "outputs": []
    },
    {
      "cell_type": "code",
      "metadata": {
        "id": "indie-summer"
      },
      "source": [
        "vocab, data, word2index, index2word = generate_data(text, context_window = 2)"
      ],
      "id": "indie-summer",
      "execution_count": 10,
      "outputs": []
    },
    {
      "cell_type": "code",
      "metadata": {
        "colab": {
          "base_uri": "https://localhost:8080/"
        },
        "id": "presidential-sauce",
        "outputId": "74f246ac-3e67-4a65-8737-93b41b1e683b"
      },
      "source": [
        "print(vocab)"
      ],
      "id": "presidential-sauce",
      "execution_count": 11,
      "outputs": [
        {
          "output_type": "stream",
          "text": [
            "{'peoples', 'bodies', 'free', 'revolt', 'children', 'bad', 'discontent', 'usual', 'heavy', 'engage', 'go', 'hew', 'thank', 'crooked', 'old', 'changed', 'inalienable', 'character', 'city', 'only', 'dark', 'straight', 'nations', 'colorado', 'end', 'crippled', 'hallowed', 'happy', 'luxury', 'somehow', 'struggle', 'thee', 'society', 'righteousness', 'autumn', 'engulfed', 'i', 'able', 'spot', 'tranquilizing', 'places', 'highways', 'rolls', 'america', 'storms', 'ghettos', 'until', 'manacle', 'freedom', 'of', 'vaults', 'has', 'shadow', 'he', 'insufficient', 'nullification', 'oppression', 'rock', 'ago', 'well', 'us', 'join', 'staggered', 'millions', 'hundred', 'jail', 'sense', 'quest', 'never', 'alleghenies', 'beginning', 'give', 'sing', 'condition', 'island', 'true', 'exile', 'off', 'that', 'nor', 'every', 'white', 'content', 'rights', 'citizenship', 'note', 'louisiana', 'wallow', 'one', 'equality', 'pursuit', 'rough', 'as', 'poverty', 'would', 'bankrupt', 'nation', 'knowing', 'right', 'catholics', 'believe', 'by', 'for', 'difficulties', 'work', 'smaller', 'vast', 'they', 'own', 'brutality', 'himself', 'brothers', 'heat', 'new', 'are', 'created', 'these', 'vote', 'must', 'situation', 'promise', 'came', 'all', 'from', 'we', 'shake', 'interposition', 'tribulations', 'granted', 'neither', 'day', 'republic', 'beacon', 'fall', 'fatigue', 'persecutions', 'truths', 'magnificent', 'captivity', 'those', 'even', 'gradualism', 'lord', 'quicksand', 'democracy', 'hampshire', 'friends', 'gentiles', 'tis', 'pride', 'four', 'made', 'capital', 'real', 'make', 'slaves', 'hotels', 'say', 'robbed', 'symphony', 'sweltering', 'york', 'down', 'were', 'red', 'stating', 'also', 'stand', 'trials', 'still', 'momentous', 'south', 'become', 'governor', 'signing', 'ghetto', 'at', 'no', 'drug', 'hands', 'hope', 'georgia', 'lodging', 'fathers', 'discords', 'spiritual', 'oasis', 'to', 'a', 'bank', 'your', 'skin', 'fierce', 'awakening', 'flesh', 'and', 'tranquility', 'judged', 'architects', 'solid', 'land', 'unmindful', 'meaning', 'jangling', 'mobility', 'yes', 'winds', 'exalted', 'security', 'table', 'this', 'which', 'justice', 'invigorating', 'sixtythree', 'insofar', 'gain', 'great', 'promissory', 'can', 'unearned', 'girls', 'selfevident', 'business', 'nothing', 'nineteen', 'some', 'desolate', 'california', 'reality', 'languishing', 'life', 'demand', 'had', 'basic', 'funds', 'ring', 'transformed', 'shall', 'lift', 'obvious', 'american', 'signed', 'daybreak', 'into', 'declaration', 'carolina', 'redemptive', 'back', 'years', 'former', 'valley', 'was', 'dramatize', 'satisfied', 'racists', 'take', 'hills', 'cash', 'in', 'americans', 'marked', 'their', 'shameful', 'selfhood', 'battered', 'sadly', 'almighty', 'check', 'rude', 'molehill', 'if', 'legitimate', 'faith', 'there', 'proclamation', 'rooted', 'sunlit', 'mountain', 'hill', 'defaulted', 'slopes', 'obligation', 'having', 'it', 'but', 'when', 'come', 'cities', 'summer', 'larger', 'state', 'revealed', 'riches', 'his', 'like', 'have', 'or', 'creed', 'now', 'person', 'dream', 'liberty', 'later', 'blow', 'pennsylvania', 'hold', 'mountains', 'god', 'veterans', 'low', 'dripping', 'discrimination', 'waters', 'whithering', 'alabama', 'night', 'am', 'here', 'not', 'slums', 'sweet', 'five', 'hamlet', 'continue', 'boys', 'signs', 'returns', 'lonely', 'underestimate', 'mountainside', 'equal', 'prosperity', 'climb', 'is', 'country', 'brotherhood', 'an', 'refuse', 'whose', 'score', 'greatest', 'sisters', 'lives', 'emerges', 'today', 'mississippi', 'died', 'flames', 'overlook', 'pilgrims', 'foundations', 'speed', 'upon', 'words', 'citizens', 'tomorrow', 'wrote', 'moment', 'protestants', 'on', 'symbolic', 'persons', 'steam', 'together', 'you', 'little', 'curvaceous', 'hilltops', 'left', 'pass', 'concerned', 'tenement', 'police', 'cooling', 'demonstration', 'citizen', 'our', 'injustice', 'people', 'path', 'cannot', 'where', 'deeply', 'transform', 'out', 'so', 'whirlwinds', 'heir', 'guaranteed', 'sacred', 'lips', 'with', 'motels', 'remind', 'live', 'honoring', 'midst', 'see', 'ocean', 'stream', 'racial', 'sit', 'areas', 'finds', 'rest', 'material', 'who', 'believes', 'time', 'heightening', 'black', 'glory', 'chains', 'stone', 'her', 'will', 'independence', 'joyous', 'gods', 'let', 'travel', 'suffering', 'given', 'segregation', 'slaveowners', 'long', 'pray', 'mighty', 'what', 'colored', 'creative', 'men', 'color', 'rockies', 'decree', 'happiness', 'jews', 'sons', 'determination', 'plains', 'instead', 'bright', 'corners', 'seared', 'constitution', 'opportunity', 'rise', 'despair', 'be', 'needed', 'snowcapped', 'history', 'beautiful', 'dignity', 'been', 'emancipation', 'urgency', 'stripped', 'my', 'fatal', 'its', 'up', 'the', 'last', 'modern', 'vicious'}\n"
          ],
          "name": "stdout"
        }
      ]
    },
    {
      "cell_type": "code",
      "metadata": {
        "colab": {
          "base_uri": "https://localhost:8080/"
        },
        "id": "statewide-passion",
        "outputId": "743d0783-0d62-46c8-9215-68c62c7e3346"
      },
      "source": [
        "print(word2index)"
      ],
      "id": "statewide-passion",
      "execution_count": 12,
      "outputs": [
        {
          "output_type": "stream",
          "text": [
            "{'peoples': 0, 'bodies': 1, 'free': 2, 'revolt': 3, 'children': 4, 'bad': 5, 'discontent': 6, 'usual': 7, 'heavy': 8, 'engage': 9, 'go': 10, 'hew': 11, 'thank': 12, 'crooked': 13, 'old': 14, 'changed': 15, 'inalienable': 16, 'character': 17, 'city': 18, 'only': 19, 'dark': 20, 'straight': 21, 'nations': 22, 'colorado': 23, 'end': 24, 'crippled': 25, 'hallowed': 26, 'happy': 27, 'luxury': 28, 'somehow': 29, 'struggle': 30, 'thee': 31, 'society': 32, 'righteousness': 33, 'autumn': 34, 'engulfed': 35, 'i': 36, 'able': 37, 'spot': 38, 'tranquilizing': 39, 'places': 40, 'highways': 41, 'rolls': 42, 'america': 43, 'storms': 44, 'ghettos': 45, 'until': 46, 'manacle': 47, 'freedom': 48, 'of': 49, 'vaults': 50, 'has': 51, 'shadow': 52, 'he': 53, 'insufficient': 54, 'nullification': 55, 'oppression': 56, 'rock': 57, 'ago': 58, 'well': 59, 'us': 60, 'join': 61, 'staggered': 62, 'millions': 63, 'hundred': 64, 'jail': 65, 'sense': 66, 'quest': 67, 'never': 68, 'alleghenies': 69, 'beginning': 70, 'give': 71, 'sing': 72, 'condition': 73, 'island': 74, 'true': 75, 'exile': 76, 'off': 77, 'that': 78, 'nor': 79, 'every': 80, 'white': 81, 'content': 82, 'rights': 83, 'citizenship': 84, 'note': 85, 'louisiana': 86, 'wallow': 87, 'one': 88, 'equality': 89, 'pursuit': 90, 'rough': 91, 'as': 92, 'poverty': 93, 'would': 94, 'bankrupt': 95, 'nation': 96, 'knowing': 97, 'right': 98, 'catholics': 99, 'believe': 100, 'by': 101, 'for': 102, 'difficulties': 103, 'work': 104, 'smaller': 105, 'vast': 106, 'they': 107, 'own': 108, 'brutality': 109, 'himself': 110, 'brothers': 111, 'heat': 112, 'new': 113, 'are': 114, 'created': 115, 'these': 116, 'vote': 117, 'must': 118, 'situation': 119, 'promise': 120, 'came': 121, 'all': 122, 'from': 123, 'we': 124, 'shake': 125, 'interposition': 126, 'tribulations': 127, 'granted': 128, 'neither': 129, 'day': 130, 'republic': 131, 'beacon': 132, 'fall': 133, 'fatigue': 134, 'persecutions': 135, 'truths': 136, 'magnificent': 137, 'captivity': 138, 'those': 139, 'even': 140, 'gradualism': 141, 'lord': 142, 'quicksand': 143, 'democracy': 144, 'hampshire': 145, 'friends': 146, 'gentiles': 147, 'tis': 148, 'pride': 149, 'four': 150, 'made': 151, 'capital': 152, 'real': 153, 'make': 154, 'slaves': 155, 'hotels': 156, 'say': 157, 'robbed': 158, 'symphony': 159, 'sweltering': 160, 'york': 161, 'down': 162, 'were': 163, 'red': 164, 'stating': 165, 'also': 166, 'stand': 167, 'trials': 168, 'still': 169, 'momentous': 170, 'south': 171, 'become': 172, 'governor': 173, 'signing': 174, 'ghetto': 175, 'at': 176, 'no': 177, 'drug': 178, 'hands': 179, 'hope': 180, 'georgia': 181, 'lodging': 182, 'fathers': 183, 'discords': 184, 'spiritual': 185, 'oasis': 186, 'to': 187, 'a': 188, 'bank': 189, 'your': 190, 'skin': 191, 'fierce': 192, 'awakening': 193, 'flesh': 194, 'and': 195, 'tranquility': 196, 'judged': 197, 'architects': 198, 'solid': 199, 'land': 200, 'unmindful': 201, 'meaning': 202, 'jangling': 203, 'mobility': 204, 'yes': 205, 'winds': 206, 'exalted': 207, 'security': 208, 'table': 209, 'this': 210, 'which': 211, 'justice': 212, 'invigorating': 213, 'sixtythree': 214, 'insofar': 215, 'gain': 216, 'great': 217, 'promissory': 218, 'can': 219, 'unearned': 220, 'girls': 221, 'selfevident': 222, 'business': 223, 'nothing': 224, 'nineteen': 225, 'some': 226, 'desolate': 227, 'california': 228, 'reality': 229, 'languishing': 230, 'life': 231, 'demand': 232, 'had': 233, 'basic': 234, 'funds': 235, 'ring': 236, 'transformed': 237, 'shall': 238, 'lift': 239, 'obvious': 240, 'american': 241, 'signed': 242, 'daybreak': 243, 'into': 244, 'declaration': 245, 'carolina': 246, 'redemptive': 247, 'back': 248, 'years': 249, 'former': 250, 'valley': 251, 'was': 252, 'dramatize': 253, 'satisfied': 254, 'racists': 255, 'take': 256, 'hills': 257, 'cash': 258, 'in': 259, 'americans': 260, 'marked': 261, 'their': 262, 'shameful': 263, 'selfhood': 264, 'battered': 265, 'sadly': 266, 'almighty': 267, 'check': 268, 'rude': 269, 'molehill': 270, 'if': 271, 'legitimate': 272, 'faith': 273, 'there': 274, 'proclamation': 275, 'rooted': 276, 'sunlit': 277, 'mountain': 278, 'hill': 279, 'defaulted': 280, 'slopes': 281, 'obligation': 282, 'having': 283, 'it': 284, 'but': 285, 'when': 286, 'come': 287, 'cities': 288, 'summer': 289, 'larger': 290, 'state': 291, 'revealed': 292, 'riches': 293, 'his': 294, 'like': 295, 'have': 296, 'or': 297, 'creed': 298, 'now': 299, 'person': 300, 'dream': 301, 'liberty': 302, 'later': 303, 'blow': 304, 'pennsylvania': 305, 'hold': 306, 'mountains': 307, 'god': 308, 'veterans': 309, 'low': 310, 'dripping': 311, 'discrimination': 312, 'waters': 313, 'whithering': 314, 'alabama': 315, 'night': 316, 'am': 317, 'here': 318, 'not': 319, 'slums': 320, 'sweet': 321, 'five': 322, 'hamlet': 323, 'continue': 324, 'boys': 325, 'signs': 326, 'returns': 327, 'lonely': 328, 'underestimate': 329, 'mountainside': 330, 'equal': 331, 'prosperity': 332, 'climb': 333, 'is': 334, 'country': 335, 'brotherhood': 336, 'an': 337, 'refuse': 338, 'whose': 339, 'score': 340, 'greatest': 341, 'sisters': 342, 'lives': 343, 'emerges': 344, 'today': 345, 'mississippi': 346, 'died': 347, 'flames': 348, 'overlook': 349, 'pilgrims': 350, 'foundations': 351, 'speed': 352, 'upon': 353, 'words': 354, 'citizens': 355, 'tomorrow': 356, 'wrote': 357, 'moment': 358, 'protestants': 359, 'on': 360, 'symbolic': 361, 'persons': 362, 'steam': 363, 'together': 364, 'you': 365, 'little': 366, 'curvaceous': 367, 'hilltops': 368, 'left': 369, 'pass': 370, 'concerned': 371, 'tenement': 372, 'police': 373, 'cooling': 374, 'demonstration': 375, 'citizen': 376, 'our': 377, 'injustice': 378, 'people': 379, 'path': 380, 'cannot': 381, 'where': 382, 'deeply': 383, 'transform': 384, 'out': 385, 'so': 386, 'whirlwinds': 387, 'heir': 388, 'guaranteed': 389, 'sacred': 390, 'lips': 391, 'with': 392, 'motels': 393, 'remind': 394, 'live': 395, 'honoring': 396, 'midst': 397, 'see': 398, 'ocean': 399, 'stream': 400, 'racial': 401, 'sit': 402, 'areas': 403, 'finds': 404, 'rest': 405, 'material': 406, 'who': 407, 'believes': 408, 'time': 409, 'heightening': 410, 'black': 411, 'glory': 412, 'chains': 413, 'stone': 414, 'her': 415, 'will': 416, 'independence': 417, 'joyous': 418, 'gods': 419, 'let': 420, 'travel': 421, 'suffering': 422, 'given': 423, 'segregation': 424, 'slaveowners': 425, 'long': 426, 'pray': 427, 'mighty': 428, 'what': 429, 'colored': 430, 'creative': 431, 'men': 432, 'color': 433, 'rockies': 434, 'decree': 435, 'happiness': 436, 'jews': 437, 'sons': 438, 'determination': 439, 'plains': 440, 'instead': 441, 'bright': 442, 'corners': 443, 'seared': 444, 'constitution': 445, 'opportunity': 446, 'rise': 447, 'despair': 448, 'be': 449, 'needed': 450, 'snowcapped': 451, 'history': 452, 'beautiful': 453, 'dignity': 454, 'been': 455, 'emancipation': 456, 'urgency': 457, 'stripped': 458, 'my': 459, 'fatal': 460, 'its': 461, 'up': 462, 'the': 463, 'last': 464, 'modern': 465, 'vicious': 466}\n"
          ],
          "name": "stdout"
        }
      ]
    },
    {
      "cell_type": "code",
      "metadata": {
        "colab": {
          "base_uri": "https://localhost:8080/"
        },
        "id": "unique-profession",
        "outputId": "0771aeb6-b681-46be-8477-8ee732b6eba4"
      },
      "source": [
        "print(index2word)"
      ],
      "id": "unique-profession",
      "execution_count": 13,
      "outputs": [
        {
          "output_type": "stream",
          "text": [
            "{0: 'peoples', 1: 'bodies', 2: 'free', 3: 'revolt', 4: 'children', 5: 'bad', 6: 'discontent', 7: 'usual', 8: 'heavy', 9: 'engage', 10: 'go', 11: 'hew', 12: 'thank', 13: 'crooked', 14: 'old', 15: 'changed', 16: 'inalienable', 17: 'character', 18: 'city', 19: 'only', 20: 'dark', 21: 'straight', 22: 'nations', 23: 'colorado', 24: 'end', 25: 'crippled', 26: 'hallowed', 27: 'happy', 28: 'luxury', 29: 'somehow', 30: 'struggle', 31: 'thee', 32: 'society', 33: 'righteousness', 34: 'autumn', 35: 'engulfed', 36: 'i', 37: 'able', 38: 'spot', 39: 'tranquilizing', 40: 'places', 41: 'highways', 42: 'rolls', 43: 'america', 44: 'storms', 45: 'ghettos', 46: 'until', 47: 'manacle', 48: 'freedom', 49: 'of', 50: 'vaults', 51: 'has', 52: 'shadow', 53: 'he', 54: 'insufficient', 55: 'nullification', 56: 'oppression', 57: 'rock', 58: 'ago', 59: 'well', 60: 'us', 61: 'join', 62: 'staggered', 63: 'millions', 64: 'hundred', 65: 'jail', 66: 'sense', 67: 'quest', 68: 'never', 69: 'alleghenies', 70: 'beginning', 71: 'give', 72: 'sing', 73: 'condition', 74: 'island', 75: 'true', 76: 'exile', 77: 'off', 78: 'that', 79: 'nor', 80: 'every', 81: 'white', 82: 'content', 83: 'rights', 84: 'citizenship', 85: 'note', 86: 'louisiana', 87: 'wallow', 88: 'one', 89: 'equality', 90: 'pursuit', 91: 'rough', 92: 'as', 93: 'poverty', 94: 'would', 95: 'bankrupt', 96: 'nation', 97: 'knowing', 98: 'right', 99: 'catholics', 100: 'believe', 101: 'by', 102: 'for', 103: 'difficulties', 104: 'work', 105: 'smaller', 106: 'vast', 107: 'they', 108: 'own', 109: 'brutality', 110: 'himself', 111: 'brothers', 112: 'heat', 113: 'new', 114: 'are', 115: 'created', 116: 'these', 117: 'vote', 118: 'must', 119: 'situation', 120: 'promise', 121: 'came', 122: 'all', 123: 'from', 124: 'we', 125: 'shake', 126: 'interposition', 127: 'tribulations', 128: 'granted', 129: 'neither', 130: 'day', 131: 'republic', 132: 'beacon', 133: 'fall', 134: 'fatigue', 135: 'persecutions', 136: 'truths', 137: 'magnificent', 138: 'captivity', 139: 'those', 140: 'even', 141: 'gradualism', 142: 'lord', 143: 'quicksand', 144: 'democracy', 145: 'hampshire', 146: 'friends', 147: 'gentiles', 148: 'tis', 149: 'pride', 150: 'four', 151: 'made', 152: 'capital', 153: 'real', 154: 'make', 155: 'slaves', 156: 'hotels', 157: 'say', 158: 'robbed', 159: 'symphony', 160: 'sweltering', 161: 'york', 162: 'down', 163: 'were', 164: 'red', 165: 'stating', 166: 'also', 167: 'stand', 168: 'trials', 169: 'still', 170: 'momentous', 171: 'south', 172: 'become', 173: 'governor', 174: 'signing', 175: 'ghetto', 176: 'at', 177: 'no', 178: 'drug', 179: 'hands', 180: 'hope', 181: 'georgia', 182: 'lodging', 183: 'fathers', 184: 'discords', 185: 'spiritual', 186: 'oasis', 187: 'to', 188: 'a', 189: 'bank', 190: 'your', 191: 'skin', 192: 'fierce', 193: 'awakening', 194: 'flesh', 195: 'and', 196: 'tranquility', 197: 'judged', 198: 'architects', 199: 'solid', 200: 'land', 201: 'unmindful', 202: 'meaning', 203: 'jangling', 204: 'mobility', 205: 'yes', 206: 'winds', 207: 'exalted', 208: 'security', 209: 'table', 210: 'this', 211: 'which', 212: 'justice', 213: 'invigorating', 214: 'sixtythree', 215: 'insofar', 216: 'gain', 217: 'great', 218: 'promissory', 219: 'can', 220: 'unearned', 221: 'girls', 222: 'selfevident', 223: 'business', 224: 'nothing', 225: 'nineteen', 226: 'some', 227: 'desolate', 228: 'california', 229: 'reality', 230: 'languishing', 231: 'life', 232: 'demand', 233: 'had', 234: 'basic', 235: 'funds', 236: 'ring', 237: 'transformed', 238: 'shall', 239: 'lift', 240: 'obvious', 241: 'american', 242: 'signed', 243: 'daybreak', 244: 'into', 245: 'declaration', 246: 'carolina', 247: 'redemptive', 248: 'back', 249: 'years', 250: 'former', 251: 'valley', 252: 'was', 253: 'dramatize', 254: 'satisfied', 255: 'racists', 256: 'take', 257: 'hills', 258: 'cash', 259: 'in', 260: 'americans', 261: 'marked', 262: 'their', 263: 'shameful', 264: 'selfhood', 265: 'battered', 266: 'sadly', 267: 'almighty', 268: 'check', 269: 'rude', 270: 'molehill', 271: 'if', 272: 'legitimate', 273: 'faith', 274: 'there', 275: 'proclamation', 276: 'rooted', 277: 'sunlit', 278: 'mountain', 279: 'hill', 280: 'defaulted', 281: 'slopes', 282: 'obligation', 283: 'having', 284: 'it', 285: 'but', 286: 'when', 287: 'come', 288: 'cities', 289: 'summer', 290: 'larger', 291: 'state', 292: 'revealed', 293: 'riches', 294: 'his', 295: 'like', 296: 'have', 297: 'or', 298: 'creed', 299: 'now', 300: 'person', 301: 'dream', 302: 'liberty', 303: 'later', 304: 'blow', 305: 'pennsylvania', 306: 'hold', 307: 'mountains', 308: 'god', 309: 'veterans', 310: 'low', 311: 'dripping', 312: 'discrimination', 313: 'waters', 314: 'whithering', 315: 'alabama', 316: 'night', 317: 'am', 318: 'here', 319: 'not', 320: 'slums', 321: 'sweet', 322: 'five', 323: 'hamlet', 324: 'continue', 325: 'boys', 326: 'signs', 327: 'returns', 328: 'lonely', 329: 'underestimate', 330: 'mountainside', 331: 'equal', 332: 'prosperity', 333: 'climb', 334: 'is', 335: 'country', 336: 'brotherhood', 337: 'an', 338: 'refuse', 339: 'whose', 340: 'score', 341: 'greatest', 342: 'sisters', 343: 'lives', 344: 'emerges', 345: 'today', 346: 'mississippi', 347: 'died', 348: 'flames', 349: 'overlook', 350: 'pilgrims', 351: 'foundations', 352: 'speed', 353: 'upon', 354: 'words', 355: 'citizens', 356: 'tomorrow', 357: 'wrote', 358: 'moment', 359: 'protestants', 360: 'on', 361: 'symbolic', 362: 'persons', 363: 'steam', 364: 'together', 365: 'you', 366: 'little', 367: 'curvaceous', 368: 'hilltops', 369: 'left', 370: 'pass', 371: 'concerned', 372: 'tenement', 373: 'police', 374: 'cooling', 375: 'demonstration', 376: 'citizen', 377: 'our', 378: 'injustice', 379: 'people', 380: 'path', 381: 'cannot', 382: 'where', 383: 'deeply', 384: 'transform', 385: 'out', 386: 'so', 387: 'whirlwinds', 388: 'heir', 389: 'guaranteed', 390: 'sacred', 391: 'lips', 392: 'with', 393: 'motels', 394: 'remind', 395: 'live', 396: 'honoring', 397: 'midst', 398: 'see', 399: 'ocean', 400: 'stream', 401: 'racial', 402: 'sit', 403: 'areas', 404: 'finds', 405: 'rest', 406: 'material', 407: 'who', 408: 'believes', 409: 'time', 410: 'heightening', 411: 'black', 412: 'glory', 413: 'chains', 414: 'stone', 415: 'her', 416: 'will', 417: 'independence', 418: 'joyous', 419: 'gods', 420: 'let', 421: 'travel', 422: 'suffering', 423: 'given', 424: 'segregation', 425: 'slaveowners', 426: 'long', 427: 'pray', 428: 'mighty', 429: 'what', 430: 'colored', 431: 'creative', 432: 'men', 433: 'color', 434: 'rockies', 435: 'decree', 436: 'happiness', 437: 'jews', 438: 'sons', 439: 'determination', 440: 'plains', 441: 'instead', 442: 'bright', 443: 'corners', 444: 'seared', 445: 'constitution', 446: 'opportunity', 447: 'rise', 448: 'despair', 449: 'be', 450: 'needed', 451: 'snowcapped', 452: 'history', 453: 'beautiful', 454: 'dignity', 455: 'been', 456: 'emancipation', 457: 'urgency', 458: 'stripped', 459: 'my', 460: 'fatal', 461: 'its', 462: 'up', 463: 'the', 464: 'last', 465: 'modern', 466: 'vicious'}\n"
          ],
          "name": "stdout"
        }
      ]
    },
    {
      "cell_type": "code",
      "metadata": {
        "colab": {
          "base_uri": "https://localhost:8080/"
        },
        "id": "unavailable-banks",
        "outputId": "d649a9b4-d52b-4831-b2a6-24ab66fb0830"
      },
      "source": [
        "print(data)"
      ],
      "id": "unavailable-banks",
      "execution_count": 14,
      "outputs": [
        {
          "output_type": "stream",
          "text": [
            "[('happy', ['i', 'am', 'to', 'join']), ('to', ['am', 'happy', 'join', 'with']), ('join', ['happy', 'to', 'with', 'you']), ('with', ['to', 'join', 'you', 'today']), ('you', ['join', 'with', 'today', 'in']), ('today', ['with', 'you', 'in', 'what']), ('in', ['you', 'today', 'what', 'will']), ('what', ['today', 'in', 'will', 'go']), ('will', ['in', 'what', 'go', 'down']), ('go', ['what', 'will', 'down', 'in']), ('down', ['will', 'go', 'in', 'history']), ('in', ['go', 'down', 'history', 'as']), ('history', ['down', 'in', 'as', 'the']), ('as', ['in', 'history', 'the', 'greatest']), ('the', ['history', 'as', 'greatest', 'demonstration']), ('greatest', ['as', 'the', 'demonstration', 'for']), ('demonstration', ['the', 'greatest', 'for', 'freedom']), ('for', ['greatest', 'demonstration', 'freedom', 'in']), ('freedom', ['demonstration', 'for', 'in', 'the']), ('in', ['for', 'freedom', 'the', 'history']), ('the', ['freedom', 'in', 'history', 'of']), ('history', ['in', 'the', 'of', 'our']), ('of', ['the', 'history', 'our', 'nation']), ('our', ['history', 'of', 'nation', 'five']), ('nation', ['of', 'our', 'five', 'score']), ('five', ['our', 'nation', 'score', 'years']), ('score', ['nation', 'five', 'years', 'ago']), ('years', ['five', 'score', 'ago', 'a']), ('ago', ['score', 'years', 'a', 'great']), ('a', ['years', 'ago', 'great', 'american']), ('great', ['ago', 'a', 'american', 'in']), ('american', ['a', 'great', 'in', 'whose']), ('in', ['great', 'american', 'whose', 'symbolic']), ('whose', ['american', 'in', 'symbolic', 'shadow']), ('symbolic', ['in', 'whose', 'shadow', 'we']), ('shadow', ['whose', 'symbolic', 'we', 'stand']), ('we', ['symbolic', 'shadow', 'stand', 'today']), ('stand', ['shadow', 'we', 'today', 'signed']), ('today', ['we', 'stand', 'signed', 'the']), ('signed', ['stand', 'today', 'the', 'emancipation']), ('the', ['today', 'signed', 'emancipation', 'proclamation']), ('emancipation', ['signed', 'the', 'proclamation', 'this']), ('proclamation', ['the', 'emancipation', 'this', 'momentous']), ('this', ['emancipation', 'proclamation', 'momentous', 'decree']), ('momentous', ['proclamation', 'this', 'decree', 'came']), ('decree', ['this', 'momentous', 'came', 'as']), ('came', ['momentous', 'decree', 'as', 'a']), ('as', ['decree', 'came', 'a', 'great']), ('a', ['came', 'as', 'great', 'beacon']), ('great', ['as', 'a', 'beacon', 'of']), ('beacon', ['a', 'great', 'of', 'hope']), ('of', ['great', 'beacon', 'hope', 'to']), ('hope', ['beacon', 'of', 'to', 'millions']), ('to', ['of', 'hope', 'millions', 'of']), ('millions', ['hope', 'to', 'of', 'slaves']), ('of', ['to', 'millions', 'slaves', 'who']), ('slaves', ['millions', 'of', 'who', 'had']), ('who', ['of', 'slaves', 'had', 'been']), ('had', ['slaves', 'who', 'been', 'seared']), ('been', ['who', 'had', 'seared', 'in']), ('seared', ['had', 'been', 'in', 'the']), ('in', ['been', 'seared', 'the', 'flames']), ('the', ['seared', 'in', 'flames', 'of']), ('flames', ['in', 'the', 'of', 'whithering']), ('of', ['the', 'flames', 'whithering', 'injustice']), ('whithering', ['flames', 'of', 'injustice', 'it']), ('injustice', ['of', 'whithering', 'it', 'came']), ('it', ['whithering', 'injustice', 'came', 'as']), ('came', ['injustice', 'it', 'as', 'a']), ('as', ['it', 'came', 'a', 'joyous']), ('a', ['came', 'as', 'joyous', 'daybreak']), ('joyous', ['as', 'a', 'daybreak', 'to']), ('daybreak', ['a', 'joyous', 'to', 'end']), ('to', ['joyous', 'daybreak', 'end', 'the']), ('end', ['daybreak', 'to', 'the', 'long']), ('the', ['to', 'end', 'long', 'night']), ('long', ['end', 'the', 'night', 'of']), ('night', ['the', 'long', 'of', 'their']), ('of', ['long', 'night', 'their', 'captivity']), ('their', ['night', 'of', 'captivity', 'but']), ('captivity', ['of', 'their', 'but', 'one']), ('but', ['their', 'captivity', 'one', 'hundred']), ('one', ['captivity', 'but', 'hundred', 'years']), ('hundred', ['but', 'one', 'years', 'later']), ('years', ['one', 'hundred', 'later', 'the']), ('later', ['hundred', 'years', 'the', 'colored']), ('the', ['years', 'later', 'colored', 'america']), ('colored', ['later', 'the', 'america', 'is']), ('america', ['the', 'colored', 'is', 'still']), ('is', ['colored', 'america', 'still', 'not']), ('still', ['america', 'is', 'not', 'free']), ('not', ['is', 'still', 'free', 'one']), ('free', ['still', 'not', 'one', 'hundred']), ('one', ['not', 'free', 'hundred', 'years']), ('hundred', ['free', 'one', 'years', 'later']), ('years', ['one', 'hundred', 'later', 'the']), ('later', ['hundred', 'years', 'the', 'life']), ('the', ['years', 'later', 'life', 'of']), ('life', ['later', 'the', 'of', 'the']), ('of', ['the', 'life', 'the', 'colored']), ('the', ['life', 'of', 'colored', 'american']), ('colored', ['of', 'the', 'american', 'is']), ('american', ['the', 'colored', 'is', 'still']), ('is', ['colored', 'american', 'still', 'sadly']), ('still', ['american', 'is', 'sadly', 'crippled']), ('sadly', ['is', 'still', 'crippled', 'by']), ('crippled', ['still', 'sadly', 'by', 'the']), ('by', ['sadly', 'crippled', 'the', 'manacle']), ('the', ['crippled', 'by', 'manacle', 'of']), ('manacle', ['by', 'the', 'of', 'segregation']), ('of', ['the', 'manacle', 'segregation', 'and']), ('segregation', ['manacle', 'of', 'and', 'the']), ('and', ['of', 'segregation', 'the', 'chains']), ('the', ['segregation', 'and', 'chains', 'of']), ('chains', ['and', 'the', 'of', 'discrimination']), ('of', ['the', 'chains', 'discrimination', 'one']), ('discrimination', ['chains', 'of', 'one', 'hundred']), ('one', ['of', 'discrimination', 'hundred', 'years']), ('hundred', ['discrimination', 'one', 'years', 'later']), ('years', ['one', 'hundred', 'later', 'the']), ('later', ['hundred', 'years', 'the', 'colored']), ('the', ['years', 'later', 'colored', 'american']), ('colored', ['later', 'the', 'american', 'lives']), ('american', ['the', 'colored', 'lives', 'on']), ('lives', ['colored', 'american', 'on', 'a']), ('on', ['american', 'lives', 'a', 'lonely']), ('a', ['lives', 'on', 'lonely', 'island']), ('lonely', ['on', 'a', 'island', 'of']), ('island', ['a', 'lonely', 'of', 'poverty']), ('of', ['lonely', 'island', 'poverty', 'in']), ('poverty', ['island', 'of', 'in', 'the']), ('in', ['of', 'poverty', 'the', 'midst']), ('the', ['poverty', 'in', 'midst', 'of']), ('midst', ['in', 'the', 'of', 'a']), ('of', ['the', 'midst', 'a', 'vast']), ('a', ['midst', 'of', 'vast', 'ocean']), ('vast', ['of', 'a', 'ocean', 'of']), ('ocean', ['a', 'vast', 'of', 'material']), ('of', ['vast', 'ocean', 'material', 'prosperity']), ('material', ['ocean', 'of', 'prosperity', 'one']), ('prosperity', ['of', 'material', 'one', 'hundred']), ('one', ['material', 'prosperity', 'hundred', 'years']), ('hundred', ['prosperity', 'one', 'years', 'later']), ('years', ['one', 'hundred', 'later', 'the']), ('later', ['hundred', 'years', 'the', 'colored']), ('the', ['years', 'later', 'colored', 'american']), ('colored', ['later', 'the', 'american', 'is']), ('american', ['the', 'colored', 'is', 'still']), ('is', ['colored', 'american', 'still', 'languishing']), ('still', ['american', 'is', 'languishing', 'in']), ('languishing', ['is', 'still', 'in', 'the']), ('in', ['still', 'languishing', 'the', 'corners']), ('the', ['languishing', 'in', 'corners', 'of']), ('corners', ['in', 'the', 'of', 'american']), ('of', ['the', 'corners', 'american', 'society']), ('american', ['corners', 'of', 'society', 'and']), ('society', ['of', 'american', 'and', 'finds']), ('and', ['american', 'society', 'finds', 'himself']), ('finds', ['society', 'and', 'himself', 'an']), ('himself', ['and', 'finds', 'an', 'exile']), ('an', ['finds', 'himself', 'exile', 'in']), ('exile', ['himself', 'an', 'in', 'his']), ('in', ['an', 'exile', 'his', 'own']), ('his', ['exile', 'in', 'own', 'land']), ('own', ['in', 'his', 'land', 'so']), ('land', ['his', 'own', 'so', 'we']), ('so', ['own', 'land', 'we', 'have']), ('we', ['land', 'so', 'have', 'come']), ('have', ['so', 'we', 'come', 'here']), ('come', ['we', 'have', 'here', 'today']), ('here', ['have', 'come', 'today', 'to']), ('today', ['come', 'here', 'to', 'dramatize']), ('to', ['here', 'today', 'dramatize', 'a']), ('dramatize', ['today', 'to', 'a', 'shameful']), ('a', ['to', 'dramatize', 'shameful', 'condition']), ('shameful', ['dramatize', 'a', 'condition', 'in']), ('condition', ['a', 'shameful', 'in', 'a']), ('in', ['shameful', 'condition', 'a', 'sense']), ('a', ['condition', 'in', 'sense', 'we']), ('sense', ['in', 'a', 'we', 'have']), ('we', ['a', 'sense', 'have', 'come']), ('have', ['sense', 'we', 'come', 'to']), ('come', ['we', 'have', 'to', 'our']), ('to', ['have', 'come', 'our', 'nations']), ('our', ['come', 'to', 'nations', 'capital']), ('nations', ['to', 'our', 'capital', 'to']), ('capital', ['our', 'nations', 'to', 'cash']), ('to', ['nations', 'capital', 'cash', 'a']), ('cash', ['capital', 'to', 'a', 'check']), ('a', ['to', 'cash', 'check', 'when']), ('check', ['cash', 'a', 'when', 'the']), ('when', ['a', 'check', 'the', 'architects']), ('the', ['check', 'when', 'architects', 'of']), ('architects', ['when', 'the', 'of', 'our']), ('of', ['the', 'architects', 'our', 'great']), ('our', ['architects', 'of', 'great', 'republic']), ('great', ['of', 'our', 'republic', 'wrote']), ('republic', ['our', 'great', 'wrote', 'the']), ('wrote', ['great', 'republic', 'the', 'magnificent']), ('the', ['republic', 'wrote', 'magnificent', 'words']), ('magnificent', ['wrote', 'the', 'words', 'of']), ('words', ['the', 'magnificent', 'of', 'the']), ('of', ['magnificent', 'words', 'the', 'constitution']), ('the', ['words', 'of', 'constitution', 'and']), ('constitution', ['of', 'the', 'and', 'the']), ('and', ['the', 'constitution', 'the', 'declaration']), ('the', ['constitution', 'and', 'declaration', 'of']), ('declaration', ['and', 'the', 'of', 'independence']), ('of', ['the', 'declaration', 'independence', 'they']), ('independence', ['declaration', 'of', 'they', 'were']), ('they', ['of', 'independence', 'were', 'signing']), ('were', ['independence', 'they', 'signing', 'a']), ('signing', ['they', 'were', 'a', 'promissory']), ('a', ['were', 'signing', 'promissory', 'note']), ('promissory', ['signing', 'a', 'note', 'to']), ('note', ['a', 'promissory', 'to', 'which']), ('to', ['promissory', 'note', 'which', 'every']), ('which', ['note', 'to', 'every', 'american']), ('every', ['to', 'which', 'american', 'was']), ('american', ['which', 'every', 'was', 'to']), ('was', ['every', 'american', 'to', 'fall']), ('to', ['american', 'was', 'fall', 'heir']), ('fall', ['was', 'to', 'heir', 'this']), ('heir', ['to', 'fall', 'this', 'note']), ('this', ['fall', 'heir', 'note', 'was']), ('note', ['heir', 'this', 'was', 'a']), ('was', ['this', 'note', 'a', 'promise']), ('a', ['note', 'was', 'promise', 'that']), ('promise', ['was', 'a', 'that', 'all']), ('that', ['a', 'promise', 'all', 'men']), ('all', ['promise', 'that', 'men', 'yes']), ('men', ['that', 'all', 'yes', 'black']), ('yes', ['all', 'men', 'black', 'men']), ('black', ['men', 'yes', 'men', 'as']), ('men', ['yes', 'black', 'as', 'well']), ('as', ['black', 'men', 'well', 'as']), ('well', ['men', 'as', 'as', 'white']), ('as', ['as', 'well', 'white', 'men']), ('white', ['well', 'as', 'men', 'would']), ('men', ['as', 'white', 'would', 'be']), ('would', ['white', 'men', 'be', 'guaranteed']), ('be', ['men', 'would', 'guaranteed', 'the']), ('guaranteed', ['would', 'be', 'the', 'inalienable']), ('the', ['be', 'guaranteed', 'inalienable', 'rights']), ('inalienable', ['guaranteed', 'the', 'rights', 'of']), ('rights', ['the', 'inalienable', 'of', 'life']), ('of', ['inalienable', 'rights', 'life', 'liberty']), ('life', ['rights', 'of', 'liberty', 'and']), ('liberty', ['of', 'life', 'and', 'the']), ('and', ['life', 'liberty', 'the', 'pursuit']), ('the', ['liberty', 'and', 'pursuit', 'of']), ('pursuit', ['and', 'the', 'of', 'happiness']), ('of', ['the', 'pursuit', 'happiness', 'it']), ('happiness', ['pursuit', 'of', 'it', 'is']), ('it', ['of', 'happiness', 'is', 'obvious']), ('is', ['happiness', 'it', 'obvious', 'today']), ('obvious', ['it', 'is', 'today', 'that']), ('today', ['is', 'obvious', 'that', 'america']), ('that', ['obvious', 'today', 'america', 'has']), ('america', ['today', 'that', 'has', 'defaulted']), ('has', ['that', 'america', 'defaulted', 'on']), ('defaulted', ['america', 'has', 'on', 'this']), ('on', ['has', 'defaulted', 'this', 'promissory']), ('this', ['defaulted', 'on', 'promissory', 'note']), ('promissory', ['on', 'this', 'note', 'insofar']), ('note', ['this', 'promissory', 'insofar', 'as']), ('insofar', ['promissory', 'note', 'as', 'her']), ('as', ['note', 'insofar', 'her', 'citizens']), ('her', ['insofar', 'as', 'citizens', 'of']), ('citizens', ['as', 'her', 'of', 'color']), ('of', ['her', 'citizens', 'color', 'are']), ('color', ['citizens', 'of', 'are', 'concerned']), ('are', ['of', 'color', 'concerned', 'instead']), ('concerned', ['color', 'are', 'instead', 'of']), ('instead', ['are', 'concerned', 'of', 'honoring']), ('of', ['concerned', 'instead', 'honoring', 'this']), ('honoring', ['instead', 'of', 'this', 'sacred']), ('this', ['of', 'honoring', 'sacred', 'obligation']), ('sacred', ['honoring', 'this', 'obligation', 'america']), ('obligation', ['this', 'sacred', 'america', 'has']), ('america', ['sacred', 'obligation', 'has', 'given']), ('has', ['obligation', 'america', 'given', 'its']), ('given', ['america', 'has', 'its', 'colored']), ('its', ['has', 'given', 'colored', 'people']), ('colored', ['given', 'its', 'people', 'a']), ('people', ['its', 'colored', 'a', 'bad']), ('a', ['colored', 'people', 'bad', 'check']), ('bad', ['people', 'a', 'check', 'a']), ('check', ['a', 'bad', 'a', 'check']), ('a', ['bad', 'check', 'check', 'that']), ('check', ['check', 'a', 'that', 'has']), ('that', ['a', 'check', 'has', 'come']), ('has', ['check', 'that', 'come', 'back']), ('come', ['that', 'has', 'back', 'marked']), ('back', ['has', 'come', 'marked', 'insufficient']), ('marked', ['come', 'back', 'insufficient', 'funds']), ('insufficient', ['back', 'marked', 'funds', 'but']), ('funds', ['marked', 'insufficient', 'but', 'we']), ('but', ['insufficient', 'funds', 'we', 'refuse']), ('we', ['funds', 'but', 'refuse', 'to']), ('refuse', ['but', 'we', 'to', 'believe']), ('to', ['we', 'refuse', 'believe', 'that']), ('believe', ['refuse', 'to', 'that', 'the']), ('that', ['to', 'believe', 'the', 'bank']), ('the', ['believe', 'that', 'bank', 'of']), ('bank', ['that', 'the', 'of', 'justice']), ('of', ['the', 'bank', 'justice', 'is']), ('justice', ['bank', 'of', 'is', 'bankrupt']), ('is', ['of', 'justice', 'bankrupt', 'we']), ('bankrupt', ['justice', 'is', 'we', 'refuse']), ('we', ['is', 'bankrupt', 'refuse', 'to']), ('refuse', ['bankrupt', 'we', 'to', 'believe']), ('to', ['we', 'refuse', 'believe', 'that']), ('believe', ['refuse', 'to', 'that', 'there']), ('that', ['to', 'believe', 'there', 'are']), ('there', ['believe', 'that', 'are', 'insufficient']), ('are', ['that', 'there', 'insufficient', 'funds']), ('insufficient', ['there', 'are', 'funds', 'in']), ('funds', ['are', 'insufficient', 'in', 'the']), ('in', ['insufficient', 'funds', 'the', 'great']), ('the', ['funds', 'in', 'great', 'vaults']), ('great', ['in', 'the', 'vaults', 'of']), ('vaults', ['the', 'great', 'of', 'opportunity']), ('of', ['great', 'vaults', 'opportunity', 'of']), ('opportunity', ['vaults', 'of', 'of', 'this']), ('of', ['of', 'opportunity', 'this', 'nation']), ('this', ['opportunity', 'of', 'nation', 'so']), ('nation', ['of', 'this', 'so', 'we']), ('so', ['this', 'nation', 'we', 'have']), ('we', ['nation', 'so', 'have', 'come']), ('have', ['so', 'we', 'come', 'to']), ('come', ['we', 'have', 'to', 'cash']), ('to', ['have', 'come', 'cash', 'this']), ('cash', ['come', 'to', 'this', 'check']), ('this', ['to', 'cash', 'check', 'a']), ('check', ['cash', 'this', 'a', 'check']), ('a', ['this', 'check', 'check', 'that']), ('check', ['check', 'a', 'that', 'will']), ('that', ['a', 'check', 'will', 'give']), ('will', ['check', 'that', 'give', 'us']), ('give', ['that', 'will', 'us', 'upon']), ('us', ['will', 'give', 'upon', 'demand']), ('upon', ['give', 'us', 'demand', 'the']), ('demand', ['us', 'upon', 'the', 'riches']), ('the', ['upon', 'demand', 'riches', 'of']), ('riches', ['demand', 'the', 'of', 'freedom']), ('of', ['the', 'riches', 'freedom', 'and']), ('freedom', ['riches', 'of', 'and', 'security']), ('and', ['of', 'freedom', 'security', 'of']), ('security', ['freedom', 'and', 'of', 'justice']), ('of', ['and', 'security', 'justice', 'we']), ('justice', ['security', 'of', 'we', 'have']), ('we', ['of', 'justice', 'have', 'also']), ('have', ['justice', 'we', 'also', 'come']), ('also', ['we', 'have', 'come', 'to']), ('come', ['have', 'also', 'to', 'his']), ('to', ['also', 'come', 'his', 'hallowed']), ('his', ['come', 'to', 'hallowed', 'spot']), ('hallowed', ['to', 'his', 'spot', 'to']), ('spot', ['his', 'hallowed', 'to', 'remind']), ('to', ['hallowed', 'spot', 'remind', 'america']), ('remind', ['spot', 'to', 'america', 'of']), ('america', ['to', 'remind', 'of', 'the']), ('of', ['remind', 'america', 'the', 'fierce']), ('the', ['america', 'of', 'fierce', 'urgency']), ('fierce', ['of', 'the', 'urgency', 'of']), ('urgency', ['the', 'fierce', 'of', 'now']), ('of', ['fierce', 'urgency', 'now', 'this']), ('now', ['urgency', 'of', 'this', 'is']), ('this', ['of', 'now', 'is', 'not']), ('is', ['now', 'this', 'not', 'time']), ('not', ['this', 'is', 'time', 'to']), ('time', ['is', 'not', 'to', 'engage']), ('to', ['not', 'time', 'engage', 'in']), ('engage', ['time', 'to', 'in', 'the']), ('in', ['to', 'engage', 'the', 'luxury']), ('the', ['engage', 'in', 'luxury', 'of']), ('luxury', ['in', 'the', 'of', 'cooling']), ('of', ['the', 'luxury', 'cooling', 'off']), ('cooling', ['luxury', 'of', 'off', 'or']), ('off', ['of', 'cooling', 'or', 'to']), ('or', ['cooling', 'off', 'to', 'take']), ('to', ['off', 'or', 'take', 'the']), ('take', ['or', 'to', 'the', 'tranquilizing']), ('the', ['to', 'take', 'tranquilizing', 'drug']), ('tranquilizing', ['take', 'the', 'drug', 'of']), ('drug', ['the', 'tranquilizing', 'of', 'gradualism']), ('of', ['tranquilizing', 'drug', 'gradualism', 'now']), ('gradualism', ['drug', 'of', 'now', 'is']), ('now', ['of', 'gradualism', 'is', 'the']), ('is', ['gradualism', 'now', 'the', 'time']), ('the', ['now', 'is', 'time', 'to']), ('time', ['is', 'the', 'to', 'make']), ('to', ['the', 'time', 'make', 'real']), ('make', ['time', 'to', 'real', 'the']), ('real', ['to', 'make', 'the', 'promise']), ('the', ['make', 'real', 'promise', 'of']), ('promise', ['real', 'the', 'of', 'democracy']), ('of', ['the', 'promise', 'democracy', 'now']), ('democracy', ['promise', 'of', 'now', 'it']), ('now', ['of', 'democracy', 'it', 'the']), ('it', ['democracy', 'now', 'the', 'time']), ('the', ['now', 'it', 'time', 'to']), ('time', ['it', 'the', 'to', 'rise']), ('to', ['the', 'time', 'rise', 'from']), ('rise', ['time', 'to', 'from', 'the']), ('from', ['to', 'rise', 'the', 'dark']), ('the', ['rise', 'from', 'dark', 'and']), ('dark', ['from', 'the', 'and', 'desolate']), ('and', ['the', 'dark', 'desolate', 'valley']), ('desolate', ['dark', 'and', 'valley', 'of']), ('valley', ['and', 'desolate', 'of', 'segregation']), ('of', ['desolate', 'valley', 'segregation', 'to']), ('segregation', ['valley', 'of', 'to', 'the']), ('to', ['of', 'segregation', 'the', 'sunlit']), ('the', ['segregation', 'to', 'sunlit', 'path']), ('sunlit', ['to', 'the', 'path', 'of']), ('path', ['the', 'sunlit', 'of', 'racial']), ('of', ['sunlit', 'path', 'racial', 'justice']), ('racial', ['path', 'of', 'justice', 'now']), ('justice', ['of', 'racial', 'now', 'it']), ('now', ['racial', 'justice', 'it', 'the']), ('it', ['justice', 'now', 'the', 'time']), ('the', ['now', 'it', 'time', 'to']), ('time', ['it', 'the', 'to', 'lift']), ('to', ['the', 'time', 'lift', 'our']), ('lift', ['time', 'to', 'our', 'nation']), ('our', ['to', 'lift', 'nation', 'from']), ('nation', ['lift', 'our', 'from', 'the']), ('from', ['our', 'nation', 'the', 'quicksand']), ('the', ['nation', 'from', 'quicksand', 'of']), ('quicksand', ['from', 'the', 'of', 'racial']), ('of', ['the', 'quicksand', 'racial', 'injustice']), ('racial', ['quicksand', 'of', 'injustice', 'to']), ('injustice', ['of', 'racial', 'to', 'the']), ('to', ['racial', 'injustice', 'the', 'solid']), ('the', ['injustice', 'to', 'solid', 'rock']), ('solid', ['to', 'the', 'rock', 'of']), ('rock', ['the', 'solid', 'of', 'brotherhood']), ('of', ['solid', 'rock', 'brotherhood', 'now']), ('brotherhood', ['rock', 'of', 'now', 'is']), ('now', ['of', 'brotherhood', 'is', 'the']), ('is', ['brotherhood', 'now', 'the', 'time']), ('the', ['now', 'is', 'time', 'to']), ('time', ['is', 'the', 'to', 'make']), ('to', ['the', 'time', 'make', 'justice']), ('make', ['time', 'to', 'justice', 'a']), ('justice', ['to', 'make', 'a', 'reality']), ('a', ['make', 'justice', 'reality', 'to']), ('reality', ['justice', 'a', 'to', 'all']), ('to', ['a', 'reality', 'all', 'of']), ('all', ['reality', 'to', 'of', 'gods']), ('of', ['to', 'all', 'gods', 'children']), ('gods', ['all', 'of', 'children', 'i']), ('children', ['of', 'gods', 'i', 'would']), ('i', ['gods', 'children', 'would', 'be']), ('would', ['children', 'i', 'be', 'fatal']), ('be', ['i', 'would', 'fatal', 'for']), ('fatal', ['would', 'be', 'for', 'the']), ('for', ['be', 'fatal', 'the', 'nation']), ('the', ['fatal', 'for', 'nation', 'to']), ('nation', ['for', 'the', 'to', 'overlook']), ('to', ['the', 'nation', 'overlook', 'the']), ('overlook', ['nation', 'to', 'the', 'urgency']), ('the', ['to', 'overlook', 'urgency', 'of']), ('urgency', ['overlook', 'the', 'of', 'the']), ('of', ['the', 'urgency', 'the', 'moment']), ('the', ['urgency', 'of', 'moment', 'and']), ('moment', ['of', 'the', 'and', 'to']), ('and', ['the', 'moment', 'to', 'underestimate']), ('to', ['moment', 'and', 'underestimate', 'the']), ('underestimate', ['and', 'to', 'the', 'determination']), ('the', ['to', 'underestimate', 'determination', 'of']), ('determination', ['underestimate', 'the', 'of', 'its']), ('of', ['the', 'determination', 'its', 'colored']), ('its', ['determination', 'of', 'colored', 'citizens']), ('colored', ['of', 'its', 'citizens', 'this']), ('citizens', ['its', 'colored', 'this', 'sweltering']), ('this', ['colored', 'citizens', 'sweltering', 'summer']), ('sweltering', ['citizens', 'this', 'summer', 'of']), ('summer', ['this', 'sweltering', 'of', 'the']), ('of', ['sweltering', 'summer', 'the', 'colored']), ('the', ['summer', 'of', 'colored', 'peoples']), ('colored', ['of', 'the', 'peoples', 'legitimate']), ('peoples', ['the', 'colored', 'legitimate', 'discontent']), ('legitimate', ['colored', 'peoples', 'discontent', 'will']), ('discontent', ['peoples', 'legitimate', 'will', 'not']), ('will', ['legitimate', 'discontent', 'not', 'pass']), ('not', ['discontent', 'will', 'pass', 'until']), ('pass', ['will', 'not', 'until', 'there']), ('until', ['not', 'pass', 'there', 'is']), ('there', ['pass', 'until', 'is', 'an']), ('is', ['until', 'there', 'an', 'invigorating']), ('an', ['there', 'is', 'invigorating', 'autumn']), ('invigorating', ['is', 'an', 'autumn', 'of']), ('autumn', ['an', 'invigorating', 'of', 'freedom']), ('of', ['invigorating', 'autumn', 'freedom', 'and']), ('freedom', ['autumn', 'of', 'and', 'equality']), ('and', ['of', 'freedom', 'equality', 'nineteen']), ('equality', ['freedom', 'and', 'nineteen', 'sixtythree']), ('nineteen', ['and', 'equality', 'sixtythree', 'is']), ('sixtythree', ['equality', 'nineteen', 'is', 'not']), ('is', ['nineteen', 'sixtythree', 'not', 'an']), ('not', ['sixtythree', 'is', 'an', 'end']), ('an', ['is', 'not', 'end', 'but']), ('end', ['not', 'an', 'but', 'a']), ('but', ['an', 'end', 'a', 'beginning']), ('a', ['end', 'but', 'beginning', 'those']), ('beginning', ['but', 'a', 'those', 'who']), ('those', ['a', 'beginning', 'who', 'hope']), ('who', ['beginning', 'those', 'hope', 'that']), ('hope', ['those', 'who', 'that', 'the']), ('that', ['who', 'hope', 'the', 'colored']), ('the', ['hope', 'that', 'colored', 'americans']), ('colored', ['that', 'the', 'americans', 'needed']), ('americans', ['the', 'colored', 'needed', 'to']), ('needed', ['colored', 'americans', 'to', 'blow']), ('to', ['americans', 'needed', 'blow', 'off']), ('blow', ['needed', 'to', 'off', 'steam']), ('off', ['to', 'blow', 'steam', 'and']), ('steam', ['blow', 'off', 'and', 'will']), ('and', ['off', 'steam', 'will', 'now']), ('will', ['steam', 'and', 'now', 'be']), ('now', ['and', 'will', 'be', 'content']), ('be', ['will', 'now', 'content', 'will']), ('content', ['now', 'be', 'will', 'have']), ('will', ['be', 'content', 'have', 'a']), ('have', ['content', 'will', 'a', 'rude']), ('a', ['will', 'have', 'rude', 'awakening']), ('rude', ['have', 'a', 'awakening', 'if']), ('awakening', ['a', 'rude', 'if', 'the']), ('if', ['rude', 'awakening', 'the', 'nation']), ('the', ['awakening', 'if', 'nation', 'returns']), ('nation', ['if', 'the', 'returns', 'to']), ('returns', ['the', 'nation', 'to', 'business']), ('to', ['nation', 'returns', 'business', 'as']), ('business', ['returns', 'to', 'as', 'usual']), ('as', ['to', 'business', 'usual', 'there']), ('usual', ['business', 'as', 'there', 'will']), ('there', ['as', 'usual', 'will', 'be']), ('will', ['usual', 'there', 'be', 'neither']), ('be', ['there', 'will', 'neither', 'rest']), ('neither', ['will', 'be', 'rest', 'nor']), ('rest', ['be', 'neither', 'nor', 'tranquility']), ('nor', ['neither', 'rest', 'tranquility', 'in']), ('tranquility', ['rest', 'nor', 'in', 'america']), ('in', ['nor', 'tranquility', 'america', 'until']), ('america', ['tranquility', 'in', 'until', 'the']), ('until', ['in', 'america', 'the', 'colored']), ('the', ['america', 'until', 'colored', 'citizen']), ('colored', ['until', 'the', 'citizen', 'is']), ('citizen', ['the', 'colored', 'is', 'granted']), ('is', ['colored', 'citizen', 'granted', 'his']), ('granted', ['citizen', 'is', 'his', 'citizenship']), ('his', ['is', 'granted', 'citizenship', 'rights']), ('citizenship', ['granted', 'his', 'rights', 'the']), ('rights', ['his', 'citizenship', 'the', 'whirlwinds']), ('the', ['citizenship', 'rights', 'whirlwinds', 'of']), ('whirlwinds', ['rights', 'the', 'of', 'revolt']), ('of', ['the', 'whirlwinds', 'revolt', 'will']), ('revolt', ['whirlwinds', 'of', 'will', 'continue']), ('will', ['of', 'revolt', 'continue', 'to']), ('continue', ['revolt', 'will', 'to', 'shake']), ('to', ['will', 'continue', 'shake', 'the']), ('shake', ['continue', 'to', 'the', 'foundations']), ('the', ['to', 'shake', 'foundations', 'of']), ('foundations', ['shake', 'the', 'of', 'our']), ('of', ['the', 'foundations', 'our', 'nation']), ('our', ['foundations', 'of', 'nation', 'until']), ('nation', ['of', 'our', 'until', 'the']), ('until', ['our', 'nation', 'the', 'bright']), ('the', ['nation', 'until', 'bright', 'day']), ('bright', ['until', 'the', 'day', 'of']), ('day', ['the', 'bright', 'of', 'justice']), ('of', ['bright', 'day', 'justice', 'emerges']), ('justice', ['day', 'of', 'emerges', 'we']), ('emerges', ['of', 'justice', 'we', 'can']), ('we', ['justice', 'emerges', 'can', 'never']), ('can', ['emerges', 'we', 'never', 'be']), ('never', ['we', 'can', 'be', 'satisfied']), ('be', ['can', 'never', 'satisfied', 'as']), ('satisfied', ['never', 'be', 'as', 'long']), ('as', ['be', 'satisfied', 'long', 'as']), ('long', ['satisfied', 'as', 'as', 'our']), ('as', ['as', 'long', 'our', 'bodies']), ('our', ['long', 'as', 'bodies', 'heavy']), ('bodies', ['as', 'our', 'heavy', 'with']), ('heavy', ['our', 'bodies', 'with', 'the']), ('with', ['bodies', 'heavy', 'the', 'fatigue']), ('the', ['heavy', 'with', 'fatigue', 'of']), ('fatigue', ['with', 'the', 'of', 'travel']), ('of', ['the', 'fatigue', 'travel', 'cannot']), ('travel', ['fatigue', 'of', 'cannot', 'gain']), ('cannot', ['of', 'travel', 'gain', 'lodging']), ('gain', ['travel', 'cannot', 'lodging', 'in']), ('lodging', ['cannot', 'gain', 'in', 'the']), ('in', ['gain', 'lodging', 'the', 'motels']), ('the', ['lodging', 'in', 'motels', 'of']), ('motels', ['in', 'the', 'of', 'the']), ('of', ['the', 'motels', 'the', 'highways']), ('the', ['motels', 'of', 'highways', 'and']), ('highways', ['of', 'the', 'and', 'the']), ('and', ['the', 'highways', 'the', 'hotels']), ('the', ['highways', 'and', 'hotels', 'of']), ('hotels', ['and', 'the', 'of', 'the']), ('of', ['the', 'hotels', 'the', 'cities']), ('the', ['hotels', 'of', 'cities', 'we']), ('cities', ['of', 'the', 'we', 'cannot']), ('we', ['the', 'cities', 'cannot', 'be']), ('cannot', ['cities', 'we', 'be', 'satisfied']), ('be', ['we', 'cannot', 'satisfied', 'as']), ('satisfied', ['cannot', 'be', 'as', 'long']), ('as', ['be', 'satisfied', 'long', 'as']), ('long', ['satisfied', 'as', 'as', 'the']), ('as', ['as', 'long', 'the', 'colored']), ('the', ['long', 'as', 'colored', 'persons']), ('colored', ['as', 'the', 'persons', 'basic']), ('persons', ['the', 'colored', 'basic', 'mobility']), ('basic', ['colored', 'persons', 'mobility', 'is']), ('mobility', ['persons', 'basic', 'is', 'from']), ('is', ['basic', 'mobility', 'from', 'a']), ('from', ['mobility', 'is', 'a', 'smaller']), ('a', ['is', 'from', 'smaller', 'ghetto']), ('smaller', ['from', 'a', 'ghetto', 'to']), ('ghetto', ['a', 'smaller', 'to', 'a']), ('to', ['smaller', 'ghetto', 'a', 'larger']), ('a', ['ghetto', 'to', 'larger', 'one']), ('larger', ['to', 'a', 'one', 'we']), ('one', ['a', 'larger', 'we', 'can']), ('we', ['larger', 'one', 'can', 'never']), ('can', ['one', 'we', 'never', 'be']), ('never', ['we', 'can', 'be', 'satisfied']), ('be', ['can', 'never', 'satisfied', 'as']), ('satisfied', ['never', 'be', 'as', 'long']), ('as', ['be', 'satisfied', 'long', 'as']), ('long', ['satisfied', 'as', 'as', 'our']), ('as', ['as', 'long', 'our', 'children']), ('our', ['long', 'as', 'children', 'are']), ('children', ['as', 'our', 'are', 'stripped']), ('are', ['our', 'children', 'stripped', 'of']), ('stripped', ['children', 'are', 'of', 'their']), ('of', ['are', 'stripped', 'their', 'selfhood']), ('their', ['stripped', 'of', 'selfhood', 'and']), ('selfhood', ['of', 'their', 'and', 'robbed']), ('and', ['their', 'selfhood', 'robbed', 'of']), ('robbed', ['selfhood', 'and', 'of', 'their']), ('of', ['and', 'robbed', 'their', 'dignity']), ('their', ['robbed', 'of', 'dignity', 'by']), ('dignity', ['of', 'their', 'by', 'signs']), ('by', ['their', 'dignity', 'signs', 'stating']), ('signs', ['dignity', 'by', 'stating', 'for']), ('stating', ['by', 'signs', 'for', 'white']), ('for', ['signs', 'stating', 'white', 'only']), ('white', ['stating', 'for', 'only', 'we']), ('only', ['for', 'white', 'we', 'cannot']), ('we', ['white', 'only', 'cannot', 'be']), ('cannot', ['only', 'we', 'be', 'satisfied']), ('be', ['we', 'cannot', 'satisfied', 'as']), ('satisfied', ['cannot', 'be', 'as', 'long']), ('as', ['be', 'satisfied', 'long', 'as']), ('long', ['satisfied', 'as', 'as', 'a']), ('as', ['as', 'long', 'a', 'colored']), ('a', ['long', 'as', 'colored', 'person']), ('colored', ['as', 'a', 'person', 'in']), ('person', ['a', 'colored', 'in', 'mississippi']), ('in', ['colored', 'person', 'mississippi', 'cannot']), ('mississippi', ['person', 'in', 'cannot', 'vote']), ('cannot', ['in', 'mississippi', 'vote', 'and']), ('vote', ['mississippi', 'cannot', 'and', 'a']), ('and', ['cannot', 'vote', 'a', 'colored']), ('a', ['vote', 'and', 'colored', 'person']), ('colored', ['and', 'a', 'person', 'in']), ('person', ['a', 'colored', 'in', 'new']), ('in', ['colored', 'person', 'new', 'york']), ('new', ['person', 'in', 'york', 'believes']), ('york', ['in', 'new', 'believes', 'he']), ('believes', ['new', 'york', 'he', 'has']), ('he', ['york', 'believes', 'has', 'nothing']), ('has', ['believes', 'he', 'nothing', 'for']), ('nothing', ['he', 'has', 'for', 'which']), ('for', ['has', 'nothing', 'which', 'to']), ('which', ['nothing', 'for', 'to', 'vote']), ('to', ['for', 'which', 'vote', 'no']), ('vote', ['which', 'to', 'no', 'no']), ('no', ['to', 'vote', 'no', 'we']), ('no', ['vote', 'no', 'we', 'are']), ('we', ['no', 'no', 'are', 'not']), ('are', ['no', 'we', 'not', 'satisfied']), ('not', ['we', 'are', 'satisfied', 'and']), ('satisfied', ['are', 'not', 'and', 'we']), ('and', ['not', 'satisfied', 'we', 'will']), ('we', ['satisfied', 'and', 'will', 'not']), ('will', ['and', 'we', 'not', 'be']), ('not', ['we', 'will', 'be', 'satisfied']), ('be', ['will', 'not', 'satisfied', 'until']), ('satisfied', ['not', 'be', 'until', 'justice']), ('until', ['be', 'satisfied', 'justice', 'rolls']), ('justice', ['satisfied', 'until', 'rolls', 'down']), ('rolls', ['until', 'justice', 'down', 'like']), ('down', ['justice', 'rolls', 'like', 'waters']), ('like', ['rolls', 'down', 'waters', 'and']), ('waters', ['down', 'like', 'and', 'righteousness']), ('and', ['like', 'waters', 'righteousness', 'like']), ('righteousness', ['waters', 'and', 'like', 'a']), ('like', ['and', 'righteousness', 'a', 'mighty']), ('a', ['righteousness', 'like', 'mighty', 'stream']), ('mighty', ['like', 'a', 'stream', 'i']), ('stream', ['a', 'mighty', 'i', 'am']), ('i', ['mighty', 'stream', 'am', 'not']), ('am', ['stream', 'i', 'not', 'unmindful']), ('not', ['i', 'am', 'unmindful', 'that']), ('unmindful', ['am', 'not', 'that', 'some']), ('that', ['not', 'unmindful', 'some', 'of']), ('some', ['unmindful', 'that', 'of', 'you']), ('of', ['that', 'some', 'you', 'have']), ('you', ['some', 'of', 'have', 'come']), ('have', ['of', 'you', 'come', 'here']), ('come', ['you', 'have', 'here', 'out']), ('here', ['have', 'come', 'out', 'of']), ('out', ['come', 'here', 'of', 'your']), ('of', ['here', 'out', 'your', 'trials']), ('your', ['out', 'of', 'trials', 'and']), ('trials', ['of', 'your', 'and', 'tribulations']), ('and', ['your', 'trials', 'tribulations', 'some']), ('tribulations', ['trials', 'and', 'some', 'of']), ('some', ['and', 'tribulations', 'of', 'you']), ('of', ['tribulations', 'some', 'you', 'have']), ('you', ['some', 'of', 'have', 'come']), ('have', ['of', 'you', 'come', 'from']), ('come', ['you', 'have', 'from', 'areas']), ('from', ['have', 'come', 'areas', 'where']), ('areas', ['come', 'from', 'where', 'your']), ('where', ['from', 'areas', 'your', 'quest']), ('your', ['areas', 'where', 'quest', 'for']), ('quest', ['where', 'your', 'for', 'freedom']), ('for', ['your', 'quest', 'freedom', 'left']), ('freedom', ['quest', 'for', 'left', 'you']), ('left', ['for', 'freedom', 'you', 'battered']), ('you', ['freedom', 'left', 'battered', 'by']), ('battered', ['left', 'you', 'by', 'storms']), ('by', ['you', 'battered', 'storms', 'of']), ('storms', ['battered', 'by', 'of', 'persecutions']), ('of', ['by', 'storms', 'persecutions', 'and']), ('persecutions', ['storms', 'of', 'and', 'staggered']), ('and', ['of', 'persecutions', 'staggered', 'by']), ('staggered', ['persecutions', 'and', 'by', 'the']), ('by', ['and', 'staggered', 'the', 'winds']), ('the', ['staggered', 'by', 'winds', 'of']), ('winds', ['by', 'the', 'of', 'police']), ('of', ['the', 'winds', 'police', 'brutality']), ('police', ['winds', 'of', 'brutality', 'you']), ('brutality', ['of', 'police', 'you', 'have']), ('you', ['police', 'brutality', 'have', 'been']), ('have', ['brutality', 'you', 'been', 'the']), ('been', ['you', 'have', 'the', 'veterans']), ('the', ['have', 'been', 'veterans', 'of']), ('veterans', ['been', 'the', 'of', 'creative']), ('of', ['the', 'veterans', 'creative', 'suffering']), ('creative', ['veterans', 'of', 'suffering', 'continue']), ('suffering', ['of', 'creative', 'continue', 'to']), ('continue', ['creative', 'suffering', 'to', 'work']), ('to', ['suffering', 'continue', 'work', 'with']), ('work', ['continue', 'to', 'with', 'the']), ('with', ['to', 'work', 'the', 'faith']), ('the', ['work', 'with', 'faith', 'that']), ('faith', ['with', 'the', 'that', 'unearned']), ('that', ['the', 'faith', 'unearned', 'suffering']), ('unearned', ['faith', 'that', 'suffering', 'is']), ('suffering', ['that', 'unearned', 'is', 'redemptive']), ('is', ['unearned', 'suffering', 'redemptive', 'go']), ('redemptive', ['suffering', 'is', 'go', 'back']), ('go', ['is', 'redemptive', 'back', 'to']), ('back', ['redemptive', 'go', 'to', 'mississippi']), ('to', ['go', 'back', 'mississippi', 'go']), ('mississippi', ['back', 'to', 'go', 'back']), ('go', ['to', 'mississippi', 'back', 'to']), ('back', ['mississippi', 'go', 'to', 'alabama']), ('to', ['go', 'back', 'alabama', 'go']), ('alabama', ['back', 'to', 'go', 'back']), ('go', ['to', 'alabama', 'back', 'to']), ('back', ['alabama', 'go', 'to', 'south']), ('to', ['go', 'back', 'south', 'carolina']), ('south', ['back', 'to', 'carolina', 'go']), ('carolina', ['to', 'south', 'go', 'back']), ('go', ['south', 'carolina', 'back', 'to']), ('back', ['carolina', 'go', 'to', 'georgia']), ('to', ['go', 'back', 'georgia', 'go']), ('georgia', ['back', 'to', 'go', 'back']), ('go', ['to', 'georgia', 'back', 'to']), ('back', ['georgia', 'go', 'to', 'louisiana']), ('to', ['go', 'back', 'louisiana', 'go']), ('louisiana', ['back', 'to', 'go', 'back']), ('go', ['to', 'louisiana', 'back', 'to']), ('back', ['louisiana', 'go', 'to', 'the']), ('to', ['go', 'back', 'the', 'slums']), ('the', ['back', 'to', 'slums', 'and']), ('slums', ['to', 'the', 'and', 'ghettos']), ('and', ['the', 'slums', 'ghettos', 'of']), ('ghettos', ['slums', 'and', 'of', 'our']), ('of', ['and', 'ghettos', 'our', 'modern']), ('our', ['ghettos', 'of', 'modern', 'cities']), ('modern', ['of', 'our', 'cities', 'knowing']), ('cities', ['our', 'modern', 'knowing', 'that']), ('knowing', ['modern', 'cities', 'that', 'somehow']), ('that', ['cities', 'knowing', 'somehow', 'this']), ('somehow', ['knowing', 'that', 'this', 'situation']), ('this', ['that', 'somehow', 'situation', 'can']), ('situation', ['somehow', 'this', 'can', 'and']), ('can', ['this', 'situation', 'and', 'will']), ('and', ['situation', 'can', 'will', 'be']), ('will', ['can', 'and', 'be', 'changed']), ('be', ['and', 'will', 'changed', 'let']), ('changed', ['will', 'be', 'let', 'us']), ('let', ['be', 'changed', 'us', 'not']), ('us', ['changed', 'let', 'not', 'wallow']), ('not', ['let', 'us', 'wallow', 'in']), ('wallow', ['us', 'not', 'in', 'the']), ('in', ['not', 'wallow', 'the', 'valley']), ('the', ['wallow', 'in', 'valley', 'of']), ('valley', ['in', 'the', 'of', 'despair']), ('of', ['the', 'valley', 'despair', 'i']), ('despair', ['valley', 'of', 'i', 'say']), ('i', ['of', 'despair', 'say', 'to']), ('say', ['despair', 'i', 'to', 'you']), ('to', ['i', 'say', 'you', 'my']), ('you', ['say', 'to', 'my', 'friends']), ('my', ['to', 'you', 'friends', 'we']), ('friends', ['you', 'my', 'we', 'have']), ('we', ['my', 'friends', 'have', 'the']), ('have', ['friends', 'we', 'the', 'difficulties']), ('the', ['we', 'have', 'difficulties', 'of']), ('difficulties', ['have', 'the', 'of', 'today']), ('of', ['the', 'difficulties', 'today', 'and']), ('today', ['difficulties', 'of', 'and', 'tomorrow']), ('and', ['of', 'today', 'tomorrow', 'i']), ('tomorrow', ['today', 'and', 'i', 'still']), ('i', ['and', 'tomorrow', 'still', 'have']), ('still', ['tomorrow', 'i', 'have', 'a']), ('have', ['i', 'still', 'a', 'dream']), ('a', ['still', 'have', 'dream', 'it']), ('dream', ['have', 'a', 'it', 'is']), ('it', ['a', 'dream', 'is', 'a']), ('is', ['dream', 'it', 'a', 'dream']), ('a', ['it', 'is', 'dream', 'deeply']), ('dream', ['is', 'a', 'deeply', 'rooted']), ('deeply', ['a', 'dream', 'rooted', 'in']), ('rooted', ['dream', 'deeply', 'in', 'the']), ('in', ['deeply', 'rooted', 'the', 'american']), ('the', ['rooted', 'in', 'american', 'dream']), ('american', ['in', 'the', 'dream', 'i']), ('dream', ['the', 'american', 'i', 'have']), ('i', ['american', 'dream', 'have', 'a']), ('have', ['dream', 'i', 'a', 'dream']), ('a', ['i', 'have', 'dream', 'that']), ('dream', ['have', 'a', 'that', 'one']), ('that', ['a', 'dream', 'one', 'day']), ('one', ['dream', 'that', 'day', 'this']), ('day', ['that', 'one', 'this', 'nation']), ('this', ['one', 'day', 'nation', 'will']), ('nation', ['day', 'this', 'will', 'rise']), ('will', ['this', 'nation', 'rise', 'up']), ('rise', ['nation', 'will', 'up', 'and']), ('up', ['will', 'rise', 'and', 'live']), ('and', ['rise', 'up', 'live', 'out']), ('live', ['up', 'and', 'out', 'the']), ('out', ['and', 'live', 'the', 'true']), ('the', ['live', 'out', 'true', 'meaning']), ('true', ['out', 'the', 'meaning', 'of']), ('meaning', ['the', 'true', 'of', 'its']), ('of', ['true', 'meaning', 'its', 'creed']), ('its', ['meaning', 'of', 'creed', 'we']), ('creed', ['of', 'its', 'we', 'hold']), ('we', ['its', 'creed', 'hold', 'these']), ('hold', ['creed', 'we', 'these', 'truths']), ('these', ['we', 'hold', 'truths', 'to']), ('truths', ['hold', 'these', 'to', 'be']), ('to', ['these', 'truths', 'be', 'selfevident']), ('be', ['truths', 'to', 'selfevident', 'that']), ('selfevident', ['to', 'be', 'that', 'all']), ('that', ['be', 'selfevident', 'all', 'men']), ('all', ['selfevident', 'that', 'men', 'are']), ('men', ['that', 'all', 'are', 'created']), ('are', ['all', 'men', 'created', 'equal']), ('created', ['men', 'are', 'equal', 'i']), ('equal', ['are', 'created', 'i', 'have']), ('i', ['created', 'equal', 'have', 'a']), ('have', ['equal', 'i', 'a', 'dream']), ('a', ['i', 'have', 'dream', 'that']), ('dream', ['have', 'a', 'that', 'one']), ('that', ['a', 'dream', 'one', 'day']), ('one', ['dream', 'that', 'day', 'out']), ('day', ['that', 'one', 'out', 'in']), ('out', ['one', 'day', 'in', 'the']), ('in', ['day', 'out', 'the', 'red']), ('the', ['out', 'in', 'red', 'hills']), ('red', ['in', 'the', 'hills', 'of']), ('hills', ['the', 'red', 'of', 'georgia']), ('of', ['red', 'hills', 'georgia', 'the']), ('georgia', ['hills', 'of', 'the', 'sons']), ('the', ['of', 'georgia', 'sons', 'of']), ('sons', ['georgia', 'the', 'of', 'former']), ('of', ['the', 'sons', 'former', 'slaves']), ('former', ['sons', 'of', 'slaves', 'and']), ('slaves', ['of', 'former', 'and', 'the']), ('and', ['former', 'slaves', 'the', 'sons']), ('the', ['slaves', 'and', 'sons', 'of']), ('sons', ['and', 'the', 'of', 'former']), ('of', ['the', 'sons', 'former', 'slaveowners']), ('former', ['sons', 'of', 'slaveowners', 'will']), ('slaveowners', ['of', 'former', 'will', 'be']), ('will', ['former', 'slaveowners', 'be', 'able']), ('be', ['slaveowners', 'will', 'able', 'to']), ('able', ['will', 'be', 'to', 'sit']), ('to', ['be', 'able', 'sit', 'down']), ('sit', ['able', 'to', 'down', 'together']), ('down', ['to', 'sit', 'together', 'at']), ('together', ['sit', 'down', 'at', 'the']), ('at', ['down', 'together', 'the', 'table']), ('the', ['together', 'at', 'table', 'of']), ('table', ['at', 'the', 'of', 'brotherhood']), ('of', ['the', 'table', 'brotherhood', 'i']), ('brotherhood', ['table', 'of', 'i', 'have']), ('i', ['of', 'brotherhood', 'have', 'a']), ('have', ['brotherhood', 'i', 'a', 'dream']), ('a', ['i', 'have', 'dream', 'that']), ('dream', ['have', 'a', 'that', 'one']), ('that', ['a', 'dream', 'one', 'day']), ('one', ['dream', 'that', 'day', 'even']), ('day', ['that', 'one', 'even', 'the']), ('even', ['one', 'day', 'the', 'state']), ('the', ['day', 'even', 'state', 'of']), ('state', ['even', 'the', 'of', 'mississippi']), ('of', ['the', 'state', 'mississippi', 'a']), ('mississippi', ['state', 'of', 'a', 'state']), ('a', ['of', 'mississippi', 'state', 'sweltering']), ('state', ['mississippi', 'a', 'sweltering', 'with']), ('sweltering', ['a', 'state', 'with', 'the']), ('with', ['state', 'sweltering', 'the', 'heat']), ('the', ['sweltering', 'with', 'heat', 'of']), ('heat', ['with', 'the', 'of', 'oppression']), ('of', ['the', 'heat', 'oppression', 'will']), ('oppression', ['heat', 'of', 'will', 'be']), ('will', ['of', 'oppression', 'be', 'transformed']), ('be', ['oppression', 'will', 'transformed', 'into']), ('transformed', ['will', 'be', 'into', 'an']), ('into', ['be', 'transformed', 'an', 'oasis']), ('an', ['transformed', 'into', 'oasis', 'of']), ('oasis', ['into', 'an', 'of', 'freedom']), ('of', ['an', 'oasis', 'freedom', 'and']), ('freedom', ['oasis', 'of', 'and', 'justice']), ('and', ['of', 'freedom', 'justice', 'i']), ('justice', ['freedom', 'and', 'i', 'have']), ('i', ['and', 'justice', 'have', 'a']), ('have', ['justice', 'i', 'a', 'dream']), ('a', ['i', 'have', 'dream', 'that']), ('dream', ['have', 'a', 'that', 'my']), ('that', ['a', 'dream', 'my', 'four']), ('my', ['dream', 'that', 'four', 'little']), ('four', ['that', 'my', 'little', 'children']), ('little', ['my', 'four', 'children', 'will']), ('children', ['four', 'little', 'will', 'one']), ('will', ['little', 'children', 'one', 'day']), ('one', ['children', 'will', 'day', 'live']), ('day', ['will', 'one', 'live', 'in']), ('live', ['one', 'day', 'in', 'a']), ('in', ['day', 'live', 'a', 'nation']), ('a', ['live', 'in', 'nation', 'where']), ('nation', ['in', 'a', 'where', 'they']), ('where', ['a', 'nation', 'they', 'will']), ('they', ['nation', 'where', 'will', 'not']), ('will', ['where', 'they', 'not', 'be']), ('not', ['they', 'will', 'be', 'judged']), ('be', ['will', 'not', 'judged', 'by']), ('judged', ['not', 'be', 'by', 'the']), ('by', ['be', 'judged', 'the', 'color']), ('the', ['judged', 'by', 'color', 'of']), ('color', ['by', 'the', 'of', 'their']), ('of', ['the', 'color', 'their', 'skin']), ('their', ['color', 'of', 'skin', 'but']), ('skin', ['of', 'their', 'but', 'by']), ('but', ['their', 'skin', 'by', 'their']), ('by', ['skin', 'but', 'their', 'character']), ('their', ['but', 'by', 'character', 'i']), ('character', ['by', 'their', 'i', 'have']), ('i', ['their', 'character', 'have', 'a']), ('have', ['character', 'i', 'a', 'dream']), ('a', ['i', 'have', 'dream', 'today']), ('dream', ['have', 'a', 'today', 'i']), ('today', ['a', 'dream', 'i', 'have']), ('i', ['dream', 'today', 'have', 'a']), ('have', ['today', 'i', 'a', 'dream']), ('a', ['i', 'have', 'dream', 'that']), ('dream', ['have', 'a', 'that', 'one']), ('that', ['a', 'dream', 'one', 'day']), ('one', ['dream', 'that', 'day', 'down']), ('day', ['that', 'one', 'down', 'in']), ('down', ['one', 'day', 'in', 'alabama']), ('in', ['day', 'down', 'alabama', 'with']), ('alabama', ['down', 'in', 'with', 'its']), ('with', ['in', 'alabama', 'its', 'vicious']), ('its', ['alabama', 'with', 'vicious', 'racists']), ('vicious', ['with', 'its', 'racists', 'with']), ('racists', ['its', 'vicious', 'with', 'its']), ('with', ['vicious', 'racists', 'its', 'governor']), ('its', ['racists', 'with', 'governor', 'having']), ('governor', ['with', 'its', 'having', 'his']), ('having', ['its', 'governor', 'his', 'lips']), ('his', ['governor', 'having', 'lips', 'dripping']), ('lips', ['having', 'his', 'dripping', 'with']), ('dripping', ['his', 'lips', 'with', 'the']), ('with', ['lips', 'dripping', 'the', 'words']), ('the', ['dripping', 'with', 'words', 'of']), ('words', ['with', 'the', 'of', 'interposition']), ('of', ['the', 'words', 'interposition', 'and']), ('interposition', ['words', 'of', 'and', 'nullification']), ('and', ['of', 'interposition', 'nullification', 'that']), ('nullification', ['interposition', 'and', 'that', 'one']), ('that', ['and', 'nullification', 'one', 'day']), ('one', ['nullification', 'that', 'day', 'right']), ('day', ['that', 'one', 'right', 'down']), ('right', ['one', 'day', 'down', 'in']), ('down', ['day', 'right', 'in', 'alabama']), ('in', ['right', 'down', 'alabama', 'little']), ('alabama', ['down', 'in', 'little', 'black']), ('little', ['in', 'alabama', 'black', 'boys']), ('black', ['alabama', 'little', 'boys', 'and']), ('boys', ['little', 'black', 'and', 'black']), ('and', ['black', 'boys', 'black', 'girls']), ('black', ['boys', 'and', 'girls', 'will']), ('girls', ['and', 'black', 'will', 'be']), ('will', ['black', 'girls', 'be', 'able']), ('be', ['girls', 'will', 'able', 'to']), ('able', ['will', 'be', 'to', 'join']), ('to', ['be', 'able', 'join', 'hands']), ('join', ['able', 'to', 'hands', 'with']), ('hands', ['to', 'join', 'with', 'little']), ('with', ['join', 'hands', 'little', 'white']), ('little', ['hands', 'with', 'white', 'boys']), ('white', ['with', 'little', 'boys', 'and']), ('boys', ['little', 'white', 'and', 'white']), ('and', ['white', 'boys', 'white', 'girls']), ('white', ['boys', 'and', 'girls', 'as']), ('girls', ['and', 'white', 'as', 'sisters']), ('as', ['white', 'girls', 'sisters', 'and']), ('sisters', ['girls', 'as', 'and', 'brothers']), ('and', ['as', 'sisters', 'brothers', 'i']), ('brothers', ['sisters', 'and', 'i', 'have']), ('i', ['and', 'brothers', 'have', 'a']), ('have', ['brothers', 'i', 'a', 'dream']), ('a', ['i', 'have', 'dream', 'today']), ('dream', ['have', 'a', 'today', 'i']), ('today', ['a', 'dream', 'i', 'have']), ('i', ['dream', 'today', 'have', 'a']), ('have', ['today', 'i', 'a', 'dream']), ('a', ['i', 'have', 'dream', 'that']), ('dream', ['have', 'a', 'that', 'one']), ('that', ['a', 'dream', 'one', 'day']), ('one', ['dream', 'that', 'day', 'every']), ('day', ['that', 'one', 'every', 'valley']), ('every', ['one', 'day', 'valley', 'shall']), ('valley', ['day', 'every', 'shall', 'be']), ('shall', ['every', 'valley', 'be', 'engulfed']), ('be', ['valley', 'shall', 'engulfed', 'every']), ('engulfed', ['shall', 'be', 'every', 'hill']), ('every', ['be', 'engulfed', 'hill', 'shall']), ('hill', ['engulfed', 'every', 'shall', 'be']), ('shall', ['every', 'hill', 'be', 'exalted']), ('be', ['hill', 'shall', 'exalted', 'and']), ('exalted', ['shall', 'be', 'and', 'every']), ('and', ['be', 'exalted', 'every', 'mountain']), ('every', ['exalted', 'and', 'mountain', 'shall']), ('mountain', ['and', 'every', 'shall', 'be']), ('shall', ['every', 'mountain', 'be', 'made']), ('be', ['mountain', 'shall', 'made', 'low']), ('made', ['shall', 'be', 'low', 'the']), ('low', ['be', 'made', 'the', 'rough']), ('the', ['made', 'low', 'rough', 'places']), ('rough', ['low', 'the', 'places', 'will']), ('places', ['the', 'rough', 'will', 'be']), ('will', ['rough', 'places', 'be', 'made']), ('be', ['places', 'will', 'made', 'plains']), ('made', ['will', 'be', 'plains', 'and']), ('plains', ['be', 'made', 'and', 'the']), ('and', ['made', 'plains', 'the', 'crooked']), ('the', ['plains', 'and', 'crooked', 'places']), ('crooked', ['and', 'the', 'places', 'will']), ('places', ['the', 'crooked', 'will', 'be']), ('will', ['crooked', 'places', 'be', 'made']), ('be', ['places', 'will', 'made', 'straight']), ('made', ['will', 'be', 'straight', 'and']), ('straight', ['be', 'made', 'and', 'the']), ('and', ['made', 'straight', 'the', 'glory']), ('the', ['straight', 'and', 'glory', 'of']), ('glory', ['and', 'the', 'of', 'the']), ('of', ['the', 'glory', 'the', 'lord']), ('the', ['glory', 'of', 'lord', 'shall']), ('lord', ['of', 'the', 'shall', 'be']), ('shall', ['the', 'lord', 'be', 'revealed']), ('be', ['lord', 'shall', 'revealed', 'and']), ('revealed', ['shall', 'be', 'and', 'all']), ('and', ['be', 'revealed', 'all', 'flesh']), ('all', ['revealed', 'and', 'flesh', 'shall']), ('flesh', ['and', 'all', 'shall', 'see']), ('shall', ['all', 'flesh', 'see', 'it']), ('see', ['flesh', 'shall', 'it', 'together']), ('it', ['shall', 'see', 'together', 'this']), ('together', ['see', 'it', 'this', 'is']), ('this', ['it', 'together', 'is', 'our']), ('is', ['together', 'this', 'our', 'hope']), ('our', ['this', 'is', 'hope', 'this']), ('hope', ['is', 'our', 'this', 'is']), ('this', ['our', 'hope', 'is', 'the']), ('is', ['hope', 'this', 'the', 'faith']), ('the', ['this', 'is', 'faith', 'that']), ('faith', ['is', 'the', 'that', 'i']), ('that', ['the', 'faith', 'i', 'will']), ('i', ['faith', 'that', 'will', 'go']), ('will', ['that', 'i', 'go', 'back']), ('go', ['i', 'will', 'back', 'to']), ('back', ['will', 'go', 'to', 'the']), ('to', ['go', 'back', 'the', 'south']), ('the', ['back', 'to', 'south', 'with']), ('south', ['to', 'the', 'with', 'with']), ('with', ['the', 'south', 'with', 'this']), ('with', ['south', 'with', 'this', 'faith']), ('this', ['with', 'with', 'faith', 'we']), ('faith', ['with', 'this', 'we', 'will']), ('we', ['this', 'faith', 'will', 'be']), ('will', ['faith', 'we', 'be', 'able']), ('be', ['we', 'will', 'able', 'to']), ('able', ['will', 'be', 'to', 'hew']), ('to', ['be', 'able', 'hew', 'out']), ('hew', ['able', 'to', 'out', 'of']), ('out', ['to', 'hew', 'of', 'the']), ('of', ['hew', 'out', 'the', 'mountain']), ('the', ['out', 'of', 'mountain', 'of']), ('mountain', ['of', 'the', 'of', 'despair']), ('of', ['the', 'mountain', 'despair', 'a']), ('despair', ['mountain', 'of', 'a', 'stone']), ('a', ['of', 'despair', 'stone', 'of']), ('stone', ['despair', 'a', 'of', 'hope']), ('of', ['a', 'stone', 'hope', 'with']), ('hope', ['stone', 'of', 'with', 'this']), ('with', ['of', 'hope', 'this', 'faith']), ('this', ['hope', 'with', 'faith', 'we']), ('faith', ['with', 'this', 'we', 'will']), ('we', ['this', 'faith', 'will', 'be']), ('will', ['faith', 'we', 'be', 'able']), ('be', ['we', 'will', 'able', 'to']), ('able', ['will', 'be', 'to', 'transform']), ('to', ['be', 'able', 'transform', 'the']), ('transform', ['able', 'to', 'the', 'jangling']), ('the', ['to', 'transform', 'jangling', 'discords']), ('jangling', ['transform', 'the', 'discords', 'of']), ('discords', ['the', 'jangling', 'of', 'our']), ('of', ['jangling', 'discords', 'our', 'nation']), ('our', ['discords', 'of', 'nation', 'into']), ('nation', ['of', 'our', 'into', 'a']), ('into', ['our', 'nation', 'a', 'beautiful']), ('a', ['nation', 'into', 'beautiful', 'symphony']), ('beautiful', ['into', 'a', 'symphony', 'of']), ('symphony', ['a', 'beautiful', 'of', 'brotherhood']), ('of', ['beautiful', 'symphony', 'brotherhood', 'with']), ('brotherhood', ['symphony', 'of', 'with', 'this']), ('with', ['of', 'brotherhood', 'this', 'faith']), ('this', ['brotherhood', 'with', 'faith', 'we']), ('faith', ['with', 'this', 'we', 'will']), ('we', ['this', 'faith', 'will', 'be']), ('will', ['faith', 'we', 'be', 'able']), ('be', ['we', 'will', 'able', 'to']), ('able', ['will', 'be', 'to', 'work']), ('to', ['be', 'able', 'work', 'together']), ('work', ['able', 'to', 'together', 'to']), ('together', ['to', 'work', 'to', 'pray']), ('to', ['work', 'together', 'pray', 'together']), ('pray', ['together', 'to', 'together', 'to']), ('together', ['to', 'pray', 'to', 'struggle']), ('to', ['pray', 'together', 'struggle', 'together']), ('struggle', ['together', 'to', 'together', 'to']), ('together', ['to', 'struggle', 'to', 'go']), ('to', ['struggle', 'together', 'go', 'to']), ('go', ['together', 'to', 'to', 'jail']), ('to', ['to', 'go', 'jail', 'together']), ('jail', ['go', 'to', 'together', 'to']), ('together', ['to', 'jail', 'to', 'climb']), ('to', ['jail', 'together', 'climb', 'up']), ('climb', ['together', 'to', 'up', 'for']), ('up', ['to', 'climb', 'for', 'freedom']), ('for', ['climb', 'up', 'freedom', 'together']), ('freedom', ['up', 'for', 'together', 'knowing']), ('together', ['for', 'freedom', 'knowing', 'that']), ('knowing', ['freedom', 'together', 'that', 'we']), ('that', ['together', 'knowing', 'we', 'will']), ('we', ['knowing', 'that', 'will', 'be']), ('will', ['that', 'we', 'be', 'free']), ('be', ['we', 'will', 'free', 'one']), ('free', ['will', 'be', 'one', 'day']), ('one', ['be', 'free', 'day', 'this']), ('day', ['free', 'one', 'this', 'will']), ('this', ['one', 'day', 'will', 'be']), ('will', ['day', 'this', 'be', 'the']), ('be', ['this', 'will', 'the', 'day']), ('the', ['will', 'be', 'day', 'when']), ('day', ['be', 'the', 'when', 'all']), ('when', ['the', 'day', 'all', 'of']), ('all', ['day', 'when', 'of', 'gods']), ('of', ['when', 'all', 'gods', 'children']), ('gods', ['all', 'of', 'children', 'will']), ('children', ['of', 'gods', 'will', 'be']), ('will', ['gods', 'children', 'be', 'able']), ('be', ['children', 'will', 'able', 'to']), ('able', ['will', 'be', 'to', 'sing']), ('to', ['be', 'able', 'sing', 'with']), ('sing', ['able', 'to', 'with', 'new']), ('with', ['to', 'sing', 'new', 'meaning']), ('new', ['sing', 'with', 'meaning', 'my']), ('meaning', ['with', 'new', 'my', 'country']), ('my', ['new', 'meaning', 'country', 'tis']), ('country', ['meaning', 'my', 'tis', 'of']), ('tis', ['my', 'country', 'of', 'thee']), ('of', ['country', 'tis', 'thee', 'sweet']), ('thee', ['tis', 'of', 'sweet', 'land']), ('sweet', ['of', 'thee', 'land', 'of']), ('land', ['thee', 'sweet', 'of', 'liberty']), ('of', ['sweet', 'land', 'liberty', 'of']), ('liberty', ['land', 'of', 'of', 'thee']), ('of', ['of', 'liberty', 'thee', 'i']), ('thee', ['liberty', 'of', 'i', 'sing']), ('i', ['of', 'thee', 'sing', 'land']), ('sing', ['thee', 'i', 'land', 'where']), ('land', ['i', 'sing', 'where', 'my']), ('where', ['sing', 'land', 'my', 'fathers']), ('my', ['land', 'where', 'fathers', 'died']), ('fathers', ['where', 'my', 'died', 'land']), ('died', ['my', 'fathers', 'land', 'of']), ('land', ['fathers', 'died', 'of', 'the']), ('of', ['died', 'land', 'the', 'pilgrims']), ('the', ['land', 'of', 'pilgrims', 'pride']), ('pilgrims', ['of', 'the', 'pride', 'from']), ('pride', ['the', 'pilgrims', 'from', 'every']), ('from', ['pilgrims', 'pride', 'every', 'mountainside']), ('every', ['pride', 'from', 'mountainside', 'let']), ('mountainside', ['from', 'every', 'let', 'freedom']), ('let', ['every', 'mountainside', 'freedom', 'ring']), ('freedom', ['mountainside', 'let', 'ring', 'and']), ('ring', ['let', 'freedom', 'and', 'if']), ('and', ['freedom', 'ring', 'if', 'america']), ('if', ['ring', 'and', 'america', 'is']), ('america', ['and', 'if', 'is', 'to']), ('is', ['if', 'america', 'to', 'be']), ('to', ['america', 'is', 'be', 'a']), ('be', ['is', 'to', 'a', 'great']), ('a', ['to', 'be', 'great', 'nation']), ('great', ['be', 'a', 'nation', 'this']), ('nation', ['a', 'great', 'this', 'must']), ('this', ['great', 'nation', 'must', 'become']), ('must', ['nation', 'this', 'become', 'true']), ('become', ['this', 'must', 'true', 'so']), ('true', ['must', 'become', 'so', 'let']), ('so', ['become', 'true', 'let', 'freedom']), ('let', ['true', 'so', 'freedom', 'ring']), ('freedom', ['so', 'let', 'ring', 'from']), ('ring', ['let', 'freedom', 'from', 'the']), ('from', ['freedom', 'ring', 'the', 'hilltops']), ('the', ['ring', 'from', 'hilltops', 'of']), ('hilltops', ['from', 'the', 'of', 'new']), ('of', ['the', 'hilltops', 'new', 'hampshire']), ('new', ['hilltops', 'of', 'hampshire', 'let']), ('hampshire', ['of', 'new', 'let', 'freedom']), ('let', ['new', 'hampshire', 'freedom', 'ring']), ('freedom', ['hampshire', 'let', 'ring', 'from']), ('ring', ['let', 'freedom', 'from', 'the']), ('from', ['freedom', 'ring', 'the', 'mighty']), ('the', ['ring', 'from', 'mighty', 'mountains']), ('mighty', ['from', 'the', 'mountains', 'of']), ('mountains', ['the', 'mighty', 'of', 'new']), ('of', ['mighty', 'mountains', 'new', 'york']), ('new', ['mountains', 'of', 'york', 'let']), ('york', ['of', 'new', 'let', 'freedom']), ('let', ['new', 'york', 'freedom', 'ring']), ('freedom', ['york', 'let', 'ring', 'from']), ('ring', ['let', 'freedom', 'from', 'the']), ('from', ['freedom', 'ring', 'the', 'heightening']), ('the', ['ring', 'from', 'heightening', 'alleghenies']), ('heightening', ['from', 'the', 'alleghenies', 'of']), ('alleghenies', ['the', 'heightening', 'of', 'pennsylvania']), ('of', ['heightening', 'alleghenies', 'pennsylvania', 'let']), ('pennsylvania', ['alleghenies', 'of', 'let', 'freedom']), ('let', ['of', 'pennsylvania', 'freedom', 'ring']), ('freedom', ['pennsylvania', 'let', 'ring', 'from']), ('ring', ['let', 'freedom', 'from', 'the']), ('from', ['freedom', 'ring', 'the', 'snowcapped']), ('the', ['ring', 'from', 'snowcapped', 'rockies']), ('snowcapped', ['from', 'the', 'rockies', 'of']), ('rockies', ['the', 'snowcapped', 'of', 'colorado']), ('of', ['snowcapped', 'rockies', 'colorado', 'let']), ('colorado', ['rockies', 'of', 'let', 'freedom']), ('let', ['of', 'colorado', 'freedom', 'ring']), ('freedom', ['colorado', 'let', 'ring', 'from']), ('ring', ['let', 'freedom', 'from', 'the']), ('from', ['freedom', 'ring', 'the', 'curvaceous']), ('the', ['ring', 'from', 'curvaceous', 'slopes']), ('curvaceous', ['from', 'the', 'slopes', 'of']), ('slopes', ['the', 'curvaceous', 'of', 'california']), ('of', ['curvaceous', 'slopes', 'california', 'but']), ('california', ['slopes', 'of', 'but', 'not']), ('but', ['of', 'california', 'not', 'only']), ('not', ['california', 'but', 'only', 'that']), ('only', ['but', 'not', 'that', 'let']), ('that', ['not', 'only', 'let', 'freedom']), ('let', ['only', 'that', 'freedom', 'ring']), ('freedom', ['that', 'let', 'ring', 'from']), ('ring', ['let', 'freedom', 'from', 'stone']), ('from', ['freedom', 'ring', 'stone', 'mountain']), ('stone', ['ring', 'from', 'mountain', 'of']), ('mountain', ['from', 'stone', 'of', 'georgia']), ('of', ['stone', 'mountain', 'georgia', 'let']), ('georgia', ['mountain', 'of', 'let', 'freedom']), ('let', ['of', 'georgia', 'freedom', 'ring']), ('freedom', ['georgia', 'let', 'ring', 'from']), ('ring', ['let', 'freedom', 'from', 'every']), ('from', ['freedom', 'ring', 'every', 'hill']), ('every', ['ring', 'from', 'hill', 'and']), ('hill', ['from', 'every', 'and', 'molehill']), ('and', ['every', 'hill', 'molehill', 'of']), ('molehill', ['hill', 'and', 'of', 'mississippi']), ('of', ['and', 'molehill', 'mississippi', 'and']), ('mississippi', ['molehill', 'of', 'and', 'every']), ('and', ['of', 'mississippi', 'every', 'mountainside']), ('every', ['mississippi', 'and', 'mountainside', 'when']), ('mountainside', ['and', 'every', 'when', 'we']), ('when', ['every', 'mountainside', 'we', 'let']), ('we', ['mountainside', 'when', 'let', 'freedom']), ('let', ['when', 'we', 'freedom', 'ring']), ('freedom', ['we', 'let', 'ring', 'when']), ('ring', ['let', 'freedom', 'when', 'we']), ('when', ['freedom', 'ring', 'we', 'let']), ('we', ['ring', 'when', 'let', 'it']), ('let', ['when', 'we', 'it', 'ring']), ('it', ['we', 'let', 'ring', 'from']), ('ring', ['let', 'it', 'from', 'every']), ('from', ['it', 'ring', 'every', 'tenement']), ('every', ['ring', 'from', 'tenement', 'and']), ('tenement', ['from', 'every', 'and', 'every']), ('and', ['every', 'tenement', 'every', 'hamlet']), ('every', ['tenement', 'and', 'hamlet', 'from']), ('hamlet', ['and', 'every', 'from', 'every']), ('from', ['every', 'hamlet', 'every', 'state']), ('every', ['hamlet', 'from', 'state', 'and']), ('state', ['from', 'every', 'and', 'every']), ('and', ['every', 'state', 'every', 'city']), ('every', ['state', 'and', 'city', 'we']), ('city', ['and', 'every', 'we', 'will']), ('we', ['every', 'city', 'will', 'be']), ('will', ['city', 'we', 'be', 'able']), ('be', ['we', 'will', 'able', 'to']), ('able', ['will', 'be', 'to', 'speed']), ('to', ['be', 'able', 'speed', 'up']), ('speed', ['able', 'to', 'up', 'that']), ('up', ['to', 'speed', 'that', 'day']), ('that', ['speed', 'up', 'day', 'when']), ('day', ['up', 'that', 'when', 'all']), ('when', ['that', 'day', 'all', 'of']), ('all', ['day', 'when', 'of', 'gods']), ('of', ['when', 'all', 'gods', 'children']), ('gods', ['all', 'of', 'children', 'black']), ('children', ['of', 'gods', 'black', 'men']), ('black', ['gods', 'children', 'men', 'and']), ('men', ['children', 'black', 'and', 'white']), ('and', ['black', 'men', 'white', 'men']), ('white', ['men', 'and', 'men', 'jews']), ('men', ['and', 'white', 'jews', 'and']), ('jews', ['white', 'men', 'and', 'gentiles']), ('and', ['men', 'jews', 'gentiles', 'protestants']), ('gentiles', ['jews', 'and', 'protestants', 'and']), ('protestants', ['and', 'gentiles', 'and', 'catholics']), ('and', ['gentiles', 'protestants', 'catholics', 'will']), ('catholics', ['protestants', 'and', 'will', 'be']), ('will', ['and', 'catholics', 'be', 'able']), ('be', ['catholics', 'will', 'able', 'to']), ('able', ['will', 'be', 'to', 'join']), ('to', ['be', 'able', 'join', 'hands']), ('join', ['able', 'to', 'hands', 'and']), ('hands', ['to', 'join', 'and', 'sing']), ('and', ['join', 'hands', 'sing', 'in']), ('sing', ['hands', 'and', 'in', 'the']), ('in', ['and', 'sing', 'the', 'words']), ('the', ['sing', 'in', 'words', 'of']), ('words', ['in', 'the', 'of', 'the']), ('of', ['the', 'words', 'the', 'old']), ('the', ['words', 'of', 'old', 'spiritual']), ('old', ['of', 'the', 'spiritual', 'free']), ('spiritual', ['the', 'old', 'free', 'at']), ('free', ['old', 'spiritual', 'at', 'last']), ('at', ['spiritual', 'free', 'last', 'free']), ('last', ['free', 'at', 'free', 'at']), ('free', ['at', 'last', 'at', 'last']), ('at', ['last', 'free', 'last', 'thank']), ('last', ['free', 'at', 'thank', 'god']), ('thank', ['at', 'last', 'god', 'almighty']), ('god', ['last', 'thank', 'almighty', 'we']), ('almighty', ['thank', 'god', 'we', 'are']), ('we', ['god', 'almighty', 'are', 'free']), ('are', ['almighty', 'we', 'free', 'at']), ('free', ['we', 'are', 'at', 'last'])]\n"
          ],
          "name": "stdout"
        }
      ]
    },
    {
      "cell_type": "code",
      "metadata": {
        "id": "golden-tokyo"
      },
      "source": [
        "def words_to_tensor(words: list, word2index: dict, dtype = torch.FloatTensor):\n",
        "    \"\"\"\n",
        "    This fucntion converts a word or a list of words into a torch tensor,\n",
        "    with appropriate format.\n",
        "    It reuses the word2index dictionary.\n",
        "    \"\"\"\n",
        "    \n",
        "    tensor =  dtype([word2index[word] for word in words])\n",
        "    tensor = tensor.cuda()\n",
        "    \n",
        "    return Variable(tensor)"
      ],
      "id": "golden-tokyo",
      "execution_count": 15,
      "outputs": []
    },
    {
      "cell_type": "markdown",
      "metadata": {
        "id": "destroyed-excuse"
      },
      "source": [
        "### Step 2. Create a SkipGram model and train\n",
        "\n",
        "Task #1: Write your own model for the SkipGram model below."
      ],
      "id": "destroyed-excuse"
    },
    {
      "cell_type": "code",
      "metadata": {
        "id": "higher-kentucky"
      },
      "source": [
        "class SkipGram(nn.Module):\n",
        "  def __init__(self, vocab_size, embedding_dim, context_size):\n",
        "          super(SkipGram, self).__init__()\n",
        "          self.embeddings = nn.Embedding(vocab_size, embedding_dim)\n",
        "          self.linear1 = nn.Linear(embedding_dim, embedding_dim)\n",
        "          self.linear2 = nn.Linear(embedding_dim, 2*context_size * vocab_size)\n",
        "          self.context_size = context_size\n",
        "          self.embedding_dim = embedding_dim\n",
        "          self.vocab_size=vocab_size\n",
        "        \n",
        "  def forward(self, inputs):\n",
        "          embeds = self.embeddings(inputs).view((1, -1))  \n",
        "          out1 = F.relu(self.linear1(embeds)) # output of first layer\n",
        "          out2 = self.linear2(out1)           # output of second layer\n",
        "          out2 = torch.reshape(out2,(2*self.context_size,-1))\n",
        "          log_probs = F.log_softmax(out2, dim=1)\n",
        "          return log_probs\n"
      ],
      "id": "higher-kentucky",
      "execution_count": 16,
      "outputs": []
    },
    {
      "cell_type": "code",
      "metadata": {
        "id": "0zWlXJyrLtO7"
      },
      "source": [
        ""
      ],
      "id": "0zWlXJyrLtO7",
      "execution_count": 16,
      "outputs": []
    },
    {
      "cell_type": "code",
      "metadata": {
        "colab": {
          "base_uri": "https://localhost:8080/"
        },
        "id": "civilian-tongue",
        "outputId": "08219fed-583f-49ad-c903-fbca760b6980"
      },
      "source": [
        "# Create model and pass to CUDA\n",
        "model = SkipGram(context_size = 2, embedding_dim = 20, vocab_size = len(vocab))\n",
        "#model = model.cuda()\n",
        "model.train()\n"
      ],
      "id": "civilian-tongue",
      "execution_count": 17,
      "outputs": [
        {
          "output_type": "execute_result",
          "data": {
            "text/plain": [
              "SkipGram(\n",
              "  (embeddings): Embedding(467, 20)\n",
              "  (linear1): Linear(in_features=20, out_features=20, bias=True)\n",
              "  (linear2): Linear(in_features=20, out_features=1868, bias=True)\n",
              ")"
            ]
          },
          "metadata": {
            "tags": []
          },
          "execution_count": 17
        }
      ]
    },
    {
      "cell_type": "code",
      "metadata": {
        "id": "swiss-directive"
      },
      "source": [
        "# Define training parameters\n",
        "learning_rate = 0.001\n",
        "epochs = 50\n",
        "torch.manual_seed(28)\n",
        "loss_function = nn.NLLLoss()\n",
        "optimizer = optim.SGD(model.parameters(), lr = learning_rate)"
      ],
      "id": "swiss-directive",
      "execution_count": 18,
      "outputs": []
    },
    {
      "cell_type": "code",
      "metadata": {
        "id": "behavioral-smell"
      },
      "source": [
        ""
      ],
      "id": "behavioral-smell",
      "execution_count": 2,
      "outputs": []
    },
    {
      "cell_type": "code",
      "metadata": {
        "colab": {
          "base_uri": "https://localhost:8080/"
        },
        "id": "qyCnHLPx08Hy",
        "outputId": "5c4e618d-8f68-4e0d-bfef-287efccb24ba"
      },
      "source": [
        "len(vocab)"
      ],
      "id": "qyCnHLPx08Hy",
      "execution_count": 19,
      "outputs": [
        {
          "output_type": "execute_result",
          "data": {
            "text/plain": [
              "467"
            ]
          },
          "metadata": {
            "tags": []
          },
          "execution_count": 19
        }
      ]
    },
    {
      "cell_type": "code",
      "metadata": {
        "colab": {
          "base_uri": "https://localhost:8080/",
          "height": 412
        },
        "id": "cE8vqs6EEqNC",
        "outputId": "60b1fa70-d2fb-4139-c783-df3f089f7a23"
      },
      "source": [
        "import inspect\n",
        "print(inspect.stack())\n",
        "\n",
        "def train(data, word2index, model, epochs, loss_func, optimizer):\n",
        "  losses=[]\n",
        "  total_loss = 0\n",
        "  accuracies=[]\n",
        "  for target,context in data:\n",
        "    print([word2index[w] for w in context])\n",
        "    context_idxs = torch.tensor([word2index[w] for w in context],dtype=torch.long)\n",
        "    print(context_idxs)\n",
        "    model.zero_grad()\n",
        "    log_probs = model(context_idxs)\n",
        "    loss = loss_func(log_probs, torch.tensor([word2index[target]],dtype=torch.long))\n",
        "    loss.backward()\n",
        "    optimizer.step()\n",
        "    total_loss+=loss.item()\n",
        "  \n",
        "  if epoch % 10 == 0:\n",
        "      accuracy = calc_accuracy(model, data, word2index, index2word)\n",
        "      print(\"Epoch:\", epoch, \"Accuracy:\",accuracy)\n",
        "      accuracies.append(accuracy)\n",
        "      losses.append(total_loss)  \n",
        "\n",
        "  return losses, accuracies, model\n",
        "\n",
        "\n",
        "\n",
        "def calc_accuracy(model, data, word2index, index2word):\n",
        "    correct = 0\n",
        "    for target,context in data:\n",
        "        prediction = get_prediction(context, model, word2index, index2word)\n",
        "        if prediction == target:\n",
        "            correct+= 1\n",
        "    result = correct/len(data)\n",
        "    return result\n",
        "\n",
        "losses, accuracies, model = train(data, word2index, model, epochs, loss_function, optimizer)"
      ],
      "id": "cE8vqs6EEqNC",
      "execution_count": 22,
      "outputs": [
        {
          "output_type": "stream",
          "text": [
            "[FrameInfo(frame=<frame at 0x7fc3d724a250, file '<ipython-input-22-35a6bf7e31e9>', line 2, code <module>>, filename='<ipython-input-22-35a6bf7e31e9>', lineno=2, function='<module>', code_context=['print(inspect.stack())\\n'], index=0), FrameInfo(frame=<frame at 0x5566a692d220, file '/usr/local/lib/python3.7/dist-packages/IPython/core/interactiveshell.py', line 2882, code run_code>, filename='/usr/local/lib/python3.7/dist-packages/IPython/core/interactiveshell.py', lineno=2882, function='run_code', code_context=['                exec(code_obj, self.user_global_ns, self.user_ns)\\n'], index=0), FrameInfo(frame=<frame at 0x5566a75260a0, file '/usr/local/lib/python3.7/dist-packages/IPython/core/interactiveshell.py', line 2822, code run_ast_nodes>, filename='/usr/local/lib/python3.7/dist-packages/IPython/core/interactiveshell.py', lineno=2822, function='run_ast_nodes', code_context=['                if self.run_code(code, result):\\n'], index=0), FrameInfo(frame=<frame at 0x5566a996dc20, file '/usr/local/lib/python3.7/dist-packages/IPython/core/interactiveshell.py', line 2718, code run_cell>, filename='/usr/local/lib/python3.7/dist-packages/IPython/core/interactiveshell.py', lineno=2718, function='run_cell', code_context=['                   interactivity=interactivity, compiler=compiler, result=result)\\n'], index=0), FrameInfo(frame=<frame at 0x5566a9ab0660, file '/usr/local/lib/python3.7/dist-packages/ipykernel/zmqshell.py', line 537, code run_cell>, filename='/usr/local/lib/python3.7/dist-packages/ipykernel/zmqshell.py', lineno=537, function='run_cell', code_context=['        return super(ZMQInteractiveShell, self).run_cell(*args, **kwargs)\\n'], index=0), FrameInfo(frame=<frame at 0x5566a9ab1860, file '/usr/local/lib/python3.7/dist-packages/ipykernel/ipkernel.py', line 208, code do_execute>, filename='/usr/local/lib/python3.7/dist-packages/ipykernel/ipkernel.py', lineno=208, function='do_execute', code_context=['            res = shell.run_cell(code, store_history=store_history, silent=silent)\\n'], index=0), FrameInfo(frame=<frame at 0x5566a7620d20, file '/usr/local/lib/python3.7/dist-packages/ipykernel/kernelbase.py', line 399, code execute_request>, filename='/usr/local/lib/python3.7/dist-packages/ipykernel/kernelbase.py', lineno=399, function='execute_request', code_context=['                                        user_expressions, allow_stdin)\\n'], index=0), FrameInfo(frame=<frame at 0x5566a9e16b60, file '/usr/local/lib/python3.7/dist-packages/ipykernel/kernelbase.py', line 233, code dispatch_shell>, filename='/usr/local/lib/python3.7/dist-packages/ipykernel/kernelbase.py', lineno=233, function='dispatch_shell', code_context=['                handler(stream, idents, msg)\\n'], index=0), FrameInfo(frame=<frame at 0x5566a9b4faa0, file '/usr/local/lib/python3.7/dist-packages/ipykernel/kernelbase.py', line 283, code dispatcher>, filename='/usr/local/lib/python3.7/dist-packages/ipykernel/kernelbase.py', lineno=283, function='dispatcher', code_context=['                return self.dispatch_shell(stream, msg)\\n'], index=0), FrameInfo(frame=<frame at 0x5566a9f5c420, file '/usr/local/lib/python3.7/dist-packages/tornado/stack_context.py', line 300, code null_wrapper>, filename='/usr/local/lib/python3.7/dist-packages/tornado/stack_context.py', lineno=300, function='null_wrapper', code_context=['                return fn(*args, **kwargs)\\n'], index=0), FrameInfo(frame=<frame at 0x5566a9e16da0, file '/usr/local/lib/python3.7/dist-packages/zmq/eventloop/zmqstream.py', line 434, code _run_callback>, filename='/usr/local/lib/python3.7/dist-packages/zmq/eventloop/zmqstream.py', lineno=434, function='_run_callback', code_context=['            callback(*args, **kwargs)\\n'], index=0), FrameInfo(frame=<frame at 0x5566aa11ffa0, file '/usr/local/lib/python3.7/dist-packages/zmq/eventloop/zmqstream.py', line 480, code _handle_recv>, filename='/usr/local/lib/python3.7/dist-packages/zmq/eventloop/zmqstream.py', lineno=480, function='_handle_recv', code_context=['                self._run_callback(callback, msg)\\n'], index=0), FrameInfo(frame=<frame at 0x5566a9f5d620, file '/usr/local/lib/python3.7/dist-packages/zmq/eventloop/zmqstream.py', line 451, code _handle_events>, filename='/usr/local/lib/python3.7/dist-packages/zmq/eventloop/zmqstream.py', lineno=451, function='_handle_events', code_context=['                self._handle_recv()\\n'], index=0), FrameInfo(frame=<frame at 0x5566aa11cd20, file '/usr/local/lib/python3.7/dist-packages/tornado/stack_context.py', line 300, code null_wrapper>, filename='/usr/local/lib/python3.7/dist-packages/tornado/stack_context.py', lineno=300, function='null_wrapper', code_context=['                return fn(*args, **kwargs)\\n'], index=0), FrameInfo(frame=<frame at 0x5566a7629aa0, file '/usr/local/lib/python3.7/dist-packages/tornado/platform/asyncio.py', line 122, code _handle_events>, filename='/usr/local/lib/python3.7/dist-packages/tornado/platform/asyncio.py', lineno=122, function='_handle_events', code_context=['        handler_func(fileobj, events)\\n'], index=0), FrameInfo(frame=<frame at 0x5566a77204a0, file '/usr/lib/python3.7/asyncio/events.py', line 88, code _run>, filename='/usr/lib/python3.7/asyncio/events.py', lineno=88, function='_run', code_context=['            self._context.run(self._callback, *self._args)\\n'], index=0), FrameInfo(frame=<frame at 0x5566a9fb1c20, file '/usr/lib/python3.7/asyncio/base_events.py', line 1786, code _run_once>, filename='/usr/lib/python3.7/asyncio/base_events.py', lineno=1786, function='_run_once', code_context=['                handle._run()\\n'], index=0), FrameInfo(frame=<frame at 0x7fc42e390a00, file '/usr/lib/python3.7/asyncio/base_events.py', line 541, code run_forever>, filename='/usr/lib/python3.7/asyncio/base_events.py', lineno=541, function='run_forever', code_context=['                self._run_once()\\n'], index=0), FrameInfo(frame=<frame at 0x7fc42e390810, file '/usr/local/lib/python3.7/dist-packages/tornado/platform/asyncio.py', line 132, code start>, filename='/usr/local/lib/python3.7/dist-packages/tornado/platform/asyncio.py', lineno=132, function='start', code_context=['            self.asyncio_loop.run_forever()\\n'], index=0), FrameInfo(frame=<frame at 0x5566a65c7ce0, file '/usr/local/lib/python3.7/dist-packages/ipykernel/kernelapp.py', line 499, code start>, filename='/usr/local/lib/python3.7/dist-packages/ipykernel/kernelapp.py', lineno=499, function='start', code_context=['            self.io_loop.start()\\n'], index=0), FrameInfo(frame=<frame at 0x5566a64038e0, file '/usr/local/lib/python3.7/dist-packages/traitlets/config/application.py', line 845, code launch_instance>, filename='/usr/local/lib/python3.7/dist-packages/traitlets/config/application.py', lineno=845, function='launch_instance', code_context=['        app.start()\\n'], index=0), FrameInfo(frame=<frame at 0x7fc44ed213d0, file '/usr/local/lib/python3.7/dist-packages/ipykernel_launcher.py', line 16, code <module>>, filename='/usr/local/lib/python3.7/dist-packages/ipykernel_launcher.py', lineno=16, function='<module>', code_context=['    app.launch_new_instance()\\n'], index=0), FrameInfo(frame=<frame at 0x5566a5ea8f60, file '/usr/lib/python3.7/runpy.py', line 85, code _run_code>, filename='/usr/lib/python3.7/runpy.py', lineno=85, function='_run_code', code_context=['    exec(code, run_globals)\\n'], index=0), FrameInfo(frame=<frame at 0x5566a5df8020, file '/usr/lib/python3.7/runpy.py', line 193, code _run_module_as_main>, filename='/usr/lib/python3.7/runpy.py', lineno=193, function='_run_module_as_main', code_context=['                     \"__main__\", mod_spec)\\n'], index=0)]\n",
            "[36, 317, 187, 61]\n",
            "tensor([ 36, 317, 187,  61])\n"
          ],
          "name": "stdout"
        },
        {
          "output_type": "error",
          "ename": "RuntimeError",
          "evalue": "ignored",
          "traceback": [
            "\u001b[0;31m---------------------------------------------------------------------------\u001b[0m",
            "\u001b[0;31mRuntimeError\u001b[0m                              Traceback (most recent call last)",
            "\u001b[0;32m<ipython-input-22-35a6bf7e31e9>\u001b[0m in \u001b[0;36m<module>\u001b[0;34m()\u001b[0m\n\u001b[1;32m     36\u001b[0m     \u001b[0;32mreturn\u001b[0m \u001b[0mresult\u001b[0m\u001b[0;34m\u001b[0m\u001b[0;34m\u001b[0m\u001b[0m\n\u001b[1;32m     37\u001b[0m \u001b[0;34m\u001b[0m\u001b[0m\n\u001b[0;32m---> 38\u001b[0;31m \u001b[0mlosses\u001b[0m\u001b[0;34m,\u001b[0m \u001b[0maccuracies\u001b[0m\u001b[0;34m,\u001b[0m \u001b[0mmodel\u001b[0m \u001b[0;34m=\u001b[0m \u001b[0mtrain\u001b[0m\u001b[0;34m(\u001b[0m\u001b[0mdata\u001b[0m\u001b[0;34m,\u001b[0m \u001b[0mword2index\u001b[0m\u001b[0;34m,\u001b[0m \u001b[0mmodel\u001b[0m\u001b[0;34m,\u001b[0m \u001b[0mepochs\u001b[0m\u001b[0;34m,\u001b[0m \u001b[0mloss_function\u001b[0m\u001b[0;34m,\u001b[0m \u001b[0moptimizer\u001b[0m\u001b[0;34m)\u001b[0m\u001b[0;34m\u001b[0m\u001b[0;34m\u001b[0m\u001b[0m\n\u001b[0m",
            "\u001b[0;32m<ipython-input-22-35a6bf7e31e9>\u001b[0m in \u001b[0;36mtrain\u001b[0;34m(data, word2index, model, epochs, loss_func, optimizer)\u001b[0m\n\u001b[1;32m     11\u001b[0m     \u001b[0mprint\u001b[0m\u001b[0;34m(\u001b[0m\u001b[0mcontext_idxs\u001b[0m\u001b[0;34m)\u001b[0m\u001b[0;34m\u001b[0m\u001b[0;34m\u001b[0m\u001b[0m\n\u001b[1;32m     12\u001b[0m     \u001b[0mmodel\u001b[0m\u001b[0;34m.\u001b[0m\u001b[0mzero_grad\u001b[0m\u001b[0;34m(\u001b[0m\u001b[0;34m)\u001b[0m\u001b[0;34m\u001b[0m\u001b[0;34m\u001b[0m\u001b[0m\n\u001b[0;32m---> 13\u001b[0;31m     \u001b[0mlog_probs\u001b[0m \u001b[0;34m=\u001b[0m \u001b[0mmodel\u001b[0m\u001b[0;34m(\u001b[0m\u001b[0mcontext_idxs\u001b[0m\u001b[0;34m)\u001b[0m\u001b[0;34m\u001b[0m\u001b[0;34m\u001b[0m\u001b[0m\n\u001b[0m\u001b[1;32m     14\u001b[0m     \u001b[0mloss\u001b[0m \u001b[0;34m=\u001b[0m \u001b[0mloss_func\u001b[0m\u001b[0;34m(\u001b[0m\u001b[0mlog_probs\u001b[0m\u001b[0;34m,\u001b[0m \u001b[0mtorch\u001b[0m\u001b[0;34m.\u001b[0m\u001b[0mtensor\u001b[0m\u001b[0;34m(\u001b[0m\u001b[0;34m[\u001b[0m\u001b[0mword2index\u001b[0m\u001b[0;34m[\u001b[0m\u001b[0mtarget\u001b[0m\u001b[0;34m]\u001b[0m\u001b[0;34m]\u001b[0m\u001b[0;34m,\u001b[0m\u001b[0mdtype\u001b[0m\u001b[0;34m=\u001b[0m\u001b[0mtorch\u001b[0m\u001b[0;34m.\u001b[0m\u001b[0mlong\u001b[0m\u001b[0;34m)\u001b[0m\u001b[0;34m)\u001b[0m\u001b[0;34m\u001b[0m\u001b[0;34m\u001b[0m\u001b[0m\n\u001b[1;32m     15\u001b[0m     \u001b[0mloss\u001b[0m\u001b[0;34m.\u001b[0m\u001b[0mbackward\u001b[0m\u001b[0;34m(\u001b[0m\u001b[0;34m)\u001b[0m\u001b[0;34m\u001b[0m\u001b[0;34m\u001b[0m\u001b[0m\n",
            "\u001b[0;32m/usr/local/lib/python3.7/dist-packages/torch/nn/modules/module.py\u001b[0m in \u001b[0;36m_call_impl\u001b[0;34m(self, *input, **kwargs)\u001b[0m\n\u001b[1;32m    887\u001b[0m             \u001b[0mresult\u001b[0m \u001b[0;34m=\u001b[0m \u001b[0mself\u001b[0m\u001b[0;34m.\u001b[0m\u001b[0m_slow_forward\u001b[0m\u001b[0;34m(\u001b[0m\u001b[0;34m*\u001b[0m\u001b[0minput\u001b[0m\u001b[0;34m,\u001b[0m \u001b[0;34m**\u001b[0m\u001b[0mkwargs\u001b[0m\u001b[0;34m)\u001b[0m\u001b[0;34m\u001b[0m\u001b[0;34m\u001b[0m\u001b[0m\n\u001b[1;32m    888\u001b[0m         \u001b[0;32melse\u001b[0m\u001b[0;34m:\u001b[0m\u001b[0;34m\u001b[0m\u001b[0;34m\u001b[0m\u001b[0m\n\u001b[0;32m--> 889\u001b[0;31m             \u001b[0mresult\u001b[0m \u001b[0;34m=\u001b[0m \u001b[0mself\u001b[0m\u001b[0;34m.\u001b[0m\u001b[0mforward\u001b[0m\u001b[0;34m(\u001b[0m\u001b[0;34m*\u001b[0m\u001b[0minput\u001b[0m\u001b[0;34m,\u001b[0m \u001b[0;34m**\u001b[0m\u001b[0mkwargs\u001b[0m\u001b[0;34m)\u001b[0m\u001b[0;34m\u001b[0m\u001b[0;34m\u001b[0m\u001b[0m\n\u001b[0m\u001b[1;32m    890\u001b[0m         for hook in itertools.chain(\n\u001b[1;32m    891\u001b[0m                 \u001b[0m_global_forward_hooks\u001b[0m\u001b[0;34m.\u001b[0m\u001b[0mvalues\u001b[0m\u001b[0;34m(\u001b[0m\u001b[0;34m)\u001b[0m\u001b[0;34m,\u001b[0m\u001b[0;34m\u001b[0m\u001b[0;34m\u001b[0m\u001b[0m\n",
            "\u001b[0;32m<ipython-input-16-b48912cf0bbf>\u001b[0m in \u001b[0;36mforward\u001b[0;34m(self, inputs)\u001b[0m\n\u001b[1;32m     11\u001b[0m   \u001b[0;32mdef\u001b[0m \u001b[0mforward\u001b[0m\u001b[0;34m(\u001b[0m\u001b[0mself\u001b[0m\u001b[0;34m,\u001b[0m \u001b[0minputs\u001b[0m\u001b[0;34m)\u001b[0m\u001b[0;34m:\u001b[0m\u001b[0;34m\u001b[0m\u001b[0;34m\u001b[0m\u001b[0m\n\u001b[1;32m     12\u001b[0m           \u001b[0membeds\u001b[0m \u001b[0;34m=\u001b[0m \u001b[0mself\u001b[0m\u001b[0;34m.\u001b[0m\u001b[0membeddings\u001b[0m\u001b[0;34m(\u001b[0m\u001b[0minputs\u001b[0m\u001b[0;34m)\u001b[0m\u001b[0;34m.\u001b[0m\u001b[0mview\u001b[0m\u001b[0;34m(\u001b[0m\u001b[0;34m(\u001b[0m\u001b[0;36m1\u001b[0m\u001b[0;34m,\u001b[0m \u001b[0;34m-\u001b[0m\u001b[0;36m1\u001b[0m\u001b[0;34m)\u001b[0m\u001b[0;34m)\u001b[0m\u001b[0;34m\u001b[0m\u001b[0;34m\u001b[0m\u001b[0m\n\u001b[0;32m---> 13\u001b[0;31m           \u001b[0mout1\u001b[0m \u001b[0;34m=\u001b[0m \u001b[0mF\u001b[0m\u001b[0;34m.\u001b[0m\u001b[0mrelu\u001b[0m\u001b[0;34m(\u001b[0m\u001b[0mself\u001b[0m\u001b[0;34m.\u001b[0m\u001b[0mlinear1\u001b[0m\u001b[0;34m(\u001b[0m\u001b[0membeds\u001b[0m\u001b[0;34m)\u001b[0m\u001b[0;34m)\u001b[0m \u001b[0;31m# output of first layer\u001b[0m\u001b[0;34m\u001b[0m\u001b[0;34m\u001b[0m\u001b[0m\n\u001b[0m\u001b[1;32m     14\u001b[0m           \u001b[0mout2\u001b[0m \u001b[0;34m=\u001b[0m \u001b[0mself\u001b[0m\u001b[0;34m.\u001b[0m\u001b[0mlinear2\u001b[0m\u001b[0;34m(\u001b[0m\u001b[0mout1\u001b[0m\u001b[0;34m)\u001b[0m           \u001b[0;31m# output of second layer\u001b[0m\u001b[0;34m\u001b[0m\u001b[0;34m\u001b[0m\u001b[0m\n\u001b[1;32m     15\u001b[0m           \u001b[0mout2\u001b[0m \u001b[0;34m=\u001b[0m \u001b[0mtorch\u001b[0m\u001b[0;34m.\u001b[0m\u001b[0mreshape\u001b[0m\u001b[0;34m(\u001b[0m\u001b[0mout2\u001b[0m\u001b[0;34m,\u001b[0m\u001b[0;34m(\u001b[0m\u001b[0;36m2\u001b[0m\u001b[0;34m*\u001b[0m\u001b[0mself\u001b[0m\u001b[0;34m.\u001b[0m\u001b[0mcontext_size\u001b[0m\u001b[0;34m,\u001b[0m\u001b[0;34m-\u001b[0m\u001b[0;36m1\u001b[0m\u001b[0;34m)\u001b[0m\u001b[0;34m)\u001b[0m\u001b[0;34m\u001b[0m\u001b[0;34m\u001b[0m\u001b[0m\n",
            "\u001b[0;32m/usr/local/lib/python3.7/dist-packages/torch/nn/modules/module.py\u001b[0m in \u001b[0;36m_call_impl\u001b[0;34m(self, *input, **kwargs)\u001b[0m\n\u001b[1;32m    887\u001b[0m             \u001b[0mresult\u001b[0m \u001b[0;34m=\u001b[0m \u001b[0mself\u001b[0m\u001b[0;34m.\u001b[0m\u001b[0m_slow_forward\u001b[0m\u001b[0;34m(\u001b[0m\u001b[0;34m*\u001b[0m\u001b[0minput\u001b[0m\u001b[0;34m,\u001b[0m \u001b[0;34m**\u001b[0m\u001b[0mkwargs\u001b[0m\u001b[0;34m)\u001b[0m\u001b[0;34m\u001b[0m\u001b[0;34m\u001b[0m\u001b[0m\n\u001b[1;32m    888\u001b[0m         \u001b[0;32melse\u001b[0m\u001b[0;34m:\u001b[0m\u001b[0;34m\u001b[0m\u001b[0;34m\u001b[0m\u001b[0m\n\u001b[0;32m--> 889\u001b[0;31m             \u001b[0mresult\u001b[0m \u001b[0;34m=\u001b[0m \u001b[0mself\u001b[0m\u001b[0;34m.\u001b[0m\u001b[0mforward\u001b[0m\u001b[0;34m(\u001b[0m\u001b[0;34m*\u001b[0m\u001b[0minput\u001b[0m\u001b[0;34m,\u001b[0m \u001b[0;34m**\u001b[0m\u001b[0mkwargs\u001b[0m\u001b[0;34m)\u001b[0m\u001b[0;34m\u001b[0m\u001b[0;34m\u001b[0m\u001b[0m\n\u001b[0m\u001b[1;32m    890\u001b[0m         for hook in itertools.chain(\n\u001b[1;32m    891\u001b[0m                 \u001b[0m_global_forward_hooks\u001b[0m\u001b[0;34m.\u001b[0m\u001b[0mvalues\u001b[0m\u001b[0;34m(\u001b[0m\u001b[0;34m)\u001b[0m\u001b[0;34m,\u001b[0m\u001b[0;34m\u001b[0m\u001b[0;34m\u001b[0m\u001b[0m\n",
            "\u001b[0;32m/usr/local/lib/python3.7/dist-packages/torch/nn/modules/linear.py\u001b[0m in \u001b[0;36mforward\u001b[0;34m(self, input)\u001b[0m\n\u001b[1;32m     92\u001b[0m \u001b[0;34m\u001b[0m\u001b[0m\n\u001b[1;32m     93\u001b[0m     \u001b[0;32mdef\u001b[0m \u001b[0mforward\u001b[0m\u001b[0;34m(\u001b[0m\u001b[0mself\u001b[0m\u001b[0;34m,\u001b[0m \u001b[0minput\u001b[0m\u001b[0;34m:\u001b[0m \u001b[0mTensor\u001b[0m\u001b[0;34m)\u001b[0m \u001b[0;34m->\u001b[0m \u001b[0mTensor\u001b[0m\u001b[0;34m:\u001b[0m\u001b[0;34m\u001b[0m\u001b[0;34m\u001b[0m\u001b[0m\n\u001b[0;32m---> 94\u001b[0;31m         \u001b[0;32mreturn\u001b[0m \u001b[0mF\u001b[0m\u001b[0;34m.\u001b[0m\u001b[0mlinear\u001b[0m\u001b[0;34m(\u001b[0m\u001b[0minput\u001b[0m\u001b[0;34m,\u001b[0m \u001b[0mself\u001b[0m\u001b[0;34m.\u001b[0m\u001b[0mweight\u001b[0m\u001b[0;34m,\u001b[0m \u001b[0mself\u001b[0m\u001b[0;34m.\u001b[0m\u001b[0mbias\u001b[0m\u001b[0;34m)\u001b[0m\u001b[0;34m\u001b[0m\u001b[0;34m\u001b[0m\u001b[0m\n\u001b[0m\u001b[1;32m     95\u001b[0m \u001b[0;34m\u001b[0m\u001b[0m\n\u001b[1;32m     96\u001b[0m     \u001b[0;32mdef\u001b[0m \u001b[0mextra_repr\u001b[0m\u001b[0;34m(\u001b[0m\u001b[0mself\u001b[0m\u001b[0;34m)\u001b[0m \u001b[0;34m->\u001b[0m \u001b[0mstr\u001b[0m\u001b[0;34m:\u001b[0m\u001b[0;34m\u001b[0m\u001b[0;34m\u001b[0m\u001b[0m\n",
            "\u001b[0;32m/usr/local/lib/python3.7/dist-packages/torch/nn/functional.py\u001b[0m in \u001b[0;36mlinear\u001b[0;34m(input, weight, bias)\u001b[0m\n\u001b[1;32m   1751\u001b[0m     \u001b[0;32mif\u001b[0m \u001b[0mhas_torch_function_variadic\u001b[0m\u001b[0;34m(\u001b[0m\u001b[0minput\u001b[0m\u001b[0;34m,\u001b[0m \u001b[0mweight\u001b[0m\u001b[0;34m)\u001b[0m\u001b[0;34m:\u001b[0m\u001b[0;34m\u001b[0m\u001b[0;34m\u001b[0m\u001b[0m\n\u001b[1;32m   1752\u001b[0m         \u001b[0;32mreturn\u001b[0m \u001b[0mhandle_torch_function\u001b[0m\u001b[0;34m(\u001b[0m\u001b[0mlinear\u001b[0m\u001b[0;34m,\u001b[0m \u001b[0;34m(\u001b[0m\u001b[0minput\u001b[0m\u001b[0;34m,\u001b[0m \u001b[0mweight\u001b[0m\u001b[0;34m)\u001b[0m\u001b[0;34m,\u001b[0m \u001b[0minput\u001b[0m\u001b[0;34m,\u001b[0m \u001b[0mweight\u001b[0m\u001b[0;34m,\u001b[0m \u001b[0mbias\u001b[0m\u001b[0;34m=\u001b[0m\u001b[0mbias\u001b[0m\u001b[0;34m)\u001b[0m\u001b[0;34m\u001b[0m\u001b[0;34m\u001b[0m\u001b[0m\n\u001b[0;32m-> 1753\u001b[0;31m     \u001b[0;32mreturn\u001b[0m \u001b[0mtorch\u001b[0m\u001b[0;34m.\u001b[0m\u001b[0m_C\u001b[0m\u001b[0;34m.\u001b[0m\u001b[0m_nn\u001b[0m\u001b[0;34m.\u001b[0m\u001b[0mlinear\u001b[0m\u001b[0;34m(\u001b[0m\u001b[0minput\u001b[0m\u001b[0;34m,\u001b[0m \u001b[0mweight\u001b[0m\u001b[0;34m,\u001b[0m \u001b[0mbias\u001b[0m\u001b[0;34m)\u001b[0m\u001b[0;34m\u001b[0m\u001b[0;34m\u001b[0m\u001b[0m\n\u001b[0m\u001b[1;32m   1754\u001b[0m \u001b[0;34m\u001b[0m\u001b[0m\n\u001b[1;32m   1755\u001b[0m \u001b[0;34m\u001b[0m\u001b[0m\n",
            "\u001b[0;31mRuntimeError\u001b[0m: mat1 and mat2 shapes cannot be multiplied (1x80 and 20x20)"
          ]
        }
      ]
    },
    {
      "cell_type": "markdown",
      "metadata": {
        "id": "unlikely-arcade"
      },
      "source": [
        "Task #2: Write your own training function for the SkipGram model in the cell below. It should return a list of losses and accuracies for display later on, along with your trained model. You may also write a helper function for computing the accuracy of your model during training."
      ],
      "id": "unlikely-arcade"
    },
    {
      "cell_type": "code",
      "metadata": {
        "id": "periodic-native"
      },
      "source": [
        ""
      ],
      "id": "periodic-native",
      "execution_count": 21,
      "outputs": []
    },
    {
      "cell_type": "markdown",
      "metadata": {
        "id": "geological-statistics"
      },
      "source": [
        "### 3. Visualization"
      ],
      "id": "geological-statistics"
    },
    {
      "cell_type": "code",
      "metadata": {
        "id": "gross-affect"
      },
      "source": [
        "# Display losses over time\n",
        "plt.figure()\n",
        "plt.plot(losses)\n",
        "plt.show()"
      ],
      "id": "gross-affect",
      "execution_count": null,
      "outputs": []
    },
    {
      "cell_type": "code",
      "metadata": {
        "id": "seventh-scout"
      },
      "source": [
        "# Display accuracies over time\n",
        "plt.figure()\n",
        "plt.plot(accuracies)\n",
        "plt.show()"
      ],
      "id": "seventh-scout",
      "execution_count": null,
      "outputs": []
    },
    {
      "cell_type": "markdown",
      "metadata": {
        "id": "southwest-banking"
      },
      "source": [
        "### Questions and expected answers for the report\n",
        "\n",
        "A. Copy and paste your SkipGram class code (Task #1 in the notebook)\n",
        "\n",
        "B. Copy and paste your train function (Task #2 in the notebook), along with any helper functions you might have used (e.g. a function to compute the accuracy of your model after each iteration). Please also copy and paste the function call with the parameters you used for the train() function.\n",
        "\n",
        "C. Why is the SkipGram model much more difficult to train than the CBoW. Is it problematic if it does not reach a 100% accuracy on the task it is being trained on?\n",
        "\n",
        "D. If we were to evaluate this model by using intrinsic methods, what could be a possible approach to do so. Please submit some code that will demonstrate the performance/problems of the word embedding you have trained!"
      ],
      "id": "southwest-banking"
    },
    {
      "cell_type": "markdown",
      "metadata": {
        "id": "WILT6OhiFk5Z"
      },
      "source": [
        "**My Answers**\n",
        "\n",
        "C: The Skipgram model predicts the context words given the middle word as input while CBOW predicts the middle word given the context words as input.\n",
        "in the Skipgram algo, for each middle word, all the N context words will be predicted and loss is calculated based on N predictions. However, in \n",
        "CBOW, for every N context words, one middle word is predicted so only one prediction is made for each input and loss is calculated based on the predicted middle word.\n",
        "Hence, Skipgram is more computationally costly compared to CBOW and is thus more difficult to train.\n",
        "It is not problematic if Skipgram does not produce 100% accuracy as it predicts multiple context words of similar semantics. The accuracy score is averaged across all the predicted context words so \n",
        "even if the accuracy score is not 100% and perhaps at 90%, it would still produce some correct context words as well as other words with similar meaning that may also make sense linguisitically.\n",
        "\n",
        "\n",
        "\n",
        "D: Intrinsic methods of evaluation are experiments in which word emnbeddings are compared with human judgement on word relations.\n",
        "A good word embedding should model semantic proximity, word analogies and should be able to operate on variations of the words.\n",
        "We can use the cosine similarity metric by calculating the cosine angle between 2 embedding vectors. Values close to 1 will mean that the words carry \n",
        "close semantic meaning while values close to 0 mean they are more uncorrelated. We then check that the semantic proximity is preserved by checking \n",
        "printing the top 10 words with highest cosine distance for any given word v and check that these words make sense and are similar in meaning to the given word v.\n",
        "\n",
        "\n"
      ],
      "id": "WILT6OhiFk5Z"
    },
    {
      "cell_type": "code",
      "metadata": {
        "id": "_wDfmGf9ie_4"
      },
      "source": [
        ""
      ],
      "id": "_wDfmGf9ie_4",
      "execution_count": null,
      "outputs": []
    }
  ]
}